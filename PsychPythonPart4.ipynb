{
  "nbformat": 4,
  "nbformat_minor": 0,
  "metadata": {
    "colab": {
      "name": "PsychPythonPart4.ipynb",
      "provenance": []
    },
    "kernelspec": {
      "name": "python3",
      "display_name": "Python 3"
    },
    "language_info": {
      "name": "python"
    }
  },
  "cells": [
    {
      "cell_type": "markdown",
      "metadata": {
        "id": "LPRdfZ-gBlAo"
      },
      "source": [
        "![DSL_logo](https://github.com/BrockDSL/Intro_to_Python_Workshop/blob/master/dsl_logo.png?raw=1)\n",
        "\n",
        "![PythonPsycology](http://www.pygaze.org/wp-content/uploads/2016/10/Dalmaijer_2016_PEP-1024x356.jpg)\n",
        "\n",
        "# Welcome to Python for Psycholgy Part 4!\n",
        "\n",
        "By the end of today we'll know all about building a language experiment in Psychopy\n",
        "\n",
        "We will design the psychology experiment using the user interface, and then we will look at the Python code version. \n",
        "\n",
        "First, if you haven't done so already, download Psychopy onto your computer.\n",
        "https://www.psychopy.org/download.html\n",
        "\n",
        "Once you have finished installing it, type 'done' in the chatbox."
      ]
    },
    {
      "cell_type": "markdown",
      "metadata": {
        "id": "uc7fC8aEUP51"
      },
      "source": [
        "###While people are doing that, some Background information\n",
        "- Psychopy runs off of Python code\n",
        "- Two user interfaces\n",
        "  - Python script\n",
        "  - User-friendly interface\n",
        "- You do not need to touch the Python script if you don't want to\n",
        "  - But you can learn Python by looking at the script afterwards"
      ]
    },
    {
      "cell_type": "markdown",
      "metadata": {
        "id": "epFofmUXEI8c"
      },
      "source": [
        "Here is a word version of the steps to follow to create the language experiment.\n",
        "\n",
        "https://github.com/BrockDSL/BrockPsych_Python_Collaboration_2021/blob/master/Doing%20a%20language%20Memory%20experiment%20in%20Psychopy.docx \n",
        "\n",
        "Feel free to go at your own pace, but I will break up the steps into manageable groupings so that you can listen to the instructions, and then do some steps by yourself. "
      ]
    },
    {
      "cell_type": "markdown",
      "metadata": {
        "id": "dLE3fplOWNDO"
      },
      "source": [
        "##On to the workshop"
      ]
    },
    {
      "cell_type": "markdown",
      "metadata": {
        "id": "VztMnSK_T65G"
      },
      "source": [
        "Complete the following steps, and type **finished** in the chat when done\n",
        "\n",
        "1. Close the trial routine tab\n",
        "2. Click insert routine, and name it exposure\n",
        "3. Click on the text stiumli. Ensure your pop up box says the same as mine, and click ok"
      ]
    },
    {
      "cell_type": "markdown",
      "metadata": {
        "id": "nPHQHdskVxWV"
      },
      "source": [
        "Complete the following steps, and type **Completed** in the chat when you are done\n",
        "\n",
        "4. Click the black dot on the flow line to enter the exposure to the flow line\n",
        "5. Insert another routine. Name it instructions\n",
        "6. Insert it on the lefthand dot on the flow chart"
      ]
    },
    {
      "cell_type": "markdown",
      "metadata": {
        "id": "NO2Nud_8XJV6"
      },
      "source": [
        "Complete the following steps, and type **all done** in the chat when you are done.\n",
        "\n",
        "7. Click on the instructions tab at the top of the screen\n",
        "8. Click the text symbol in the components pannel\n",
        "9. Ensure that it says what my dialog box says, and click ok."
      ]
    },
    {
      "cell_type": "markdown",
      "metadata": {
        "id": "f_co4HL_XsPT"
      },
      "source": [
        "Complete the following steps, and type **finished** in the chat when you are done.\n",
        "\n",
        "10. Under the responses tab in the components pannel, click the keyboard symbol.\n",
        "11. Ensure the popup box says everything mine says, and click ok"
      ]
    },
    {
      "cell_type": "markdown",
      "metadata": {
        "id": "ydcNOfNmYfmU"
      },
      "source": [
        "Complete the following steps, and type \"done\" in the chatbox when you are done.\n",
        "\n",
        "12. Insert a new routine, and call it test\n",
        "13. Insert it into the flow chart by clicking the last black dot that appears.\n",
        "14. Click on the test tab at the top of the screen, to show the blank timeline"
      ]
    },
    {
      "cell_type": "markdown",
      "metadata": {
        "id": "HfoUQ82SZdjj"
      },
      "source": [
        "Complete the following steps, and type **complete** in the chat when you are done.\n",
        "\n",
        "15. Click on the text stimuli component\n",
        "16. Ensure that the pop-up box says the same as mine."
      ]
    },
    {
      "cell_type": "markdown",
      "metadata": {
        "id": "TWbnJaqZZ4WU"
      },
      "source": [
        "Complete the following steps, and type **all done** in the chatbox when you are done.\n",
        "\n",
        "17. Click insert loop (under insert routine)\n",
        "18. Insert it on the last black dot\n",
        "19. Ensure the pop-up box says the same information as mine, and click ok."
      ]
    },
    {
      "cell_type": "markdown",
      "metadata": {
        "id": "PeV0jrLra_Eg"
      },
      "source": [
        "Complete the following steps, and type **finished** in the chatbox when you are done.\n",
        "20. Click the slider symbol in the components panel\n",
        "21. Ensure your pop-up window says the same as mine, press ok."
      ]
    },
    {
      "cell_type": "markdown",
      "metadata": {
        "id": "k6fCKC4mbn9J"
      },
      "source": [
        "Complete the following steps, and type **done** in the chatbox when you are done.\n",
        "\n",
        "22. Insert instructions routine, name it test_instructions\n",
        "23. Click the black dot between exposure and test (outside of the loop)\n",
        "24. Click the new test_instructions tab to show the blank timeline"
      ]
    },
    {
      "cell_type": "markdown",
      "metadata": {
        "id": "38bc0Z8XcWjJ"
      },
      "source": [
        "Complete the following steps, and type **completed** in the chatbox when you are done.\n",
        "\n",
        "25. Click the text component symbol\n",
        "26. Ensure your pop-up box says the same information as mine, and click ok."
      ]
    },
    {
      "cell_type": "markdown",
      "metadata": {
        "id": "1PwTQuPmcxUi"
      },
      "source": [
        "Complete the following steps, and type **all done** in the chatbox when you are done.\n",
        "\n",
        "27. In components pannel, under responses, click the keyboard symbol.\n",
        "28. Ensure that your pop-up screen says the same information as mine, and click ok."
      ]
    },
    {
      "cell_type": "markdown",
      "metadata": {
        "id": "rCpWAIZIdrMp"
      },
      "source": [
        "If time permits, create a text component that says thanks for completing the test.\n",
        "\n",
        "Complete the following steps, and type **finished** in the chatbox when you are done.\n",
        "29. Insert a new routine, name it thanks\n",
        "30. Insert it at the last black dot at the end\n",
        "31. Click the text icon\n",
        "32. Ensure the pop-up box says the same as mine, press ok."
      ]
    },
    {
      "cell_type": "markdown",
      "metadata": {
        "id": "aTUlBQv2emFN"
      },
      "source": [
        "##Now let's preview our experiment!\n",
        "\n",
        "Do the following, and type **completed** in the chat when you are done.\n",
        "\n",
        "- First, click the settings icon, and ensure 'Enable Escape' is checked\n",
        "- Also, look at the Python code that automatically generated as you added components\n",
        "- Save the Psychopy file\n",
        "\n",
        "\n",
        "####Now, click the green button to run your experiemnt!\n",
        "####How to find data from the experiment"
      ]
    }
  ]
}