{
  "nbformat": 4,
  "nbformat_minor": 0,
  "metadata": {
    "colab": {
      "name": "PsychPythonPart3.ipynb",
      "provenance": [],
      "collapsed_sections": []
    },
    "kernelspec": {
      "name": "python3",
      "display_name": "Python 3"
    },
    "language_info": {
      "name": "python"
    }
  },
  "cells": [
    {
      "cell_type": "markdown",
      "metadata": {
        "id": "elCkxrZqDx4v"
      },
      "source": [
        "![DSL_logo](https://github.com/BrockDSL/Intro_to_Python_Workshop/blob/master/dsl_logo.png?raw=1) \n",
        "\n",
        "![PythonPsycology](http://www.pygaze.org/wp-content/uploads/2016/10/Dalmaijer_2016_PEP-1024x356.jpg)\n",
        "\n",
        "# Welcome to Python for Psycholgy Part 3! \n",
        "\n",
        "By the end of today we'll know all about the following; \n",
        "\n",
        "- Create online tests for participants that generate output based on their responses \n",
        "  - Google Forms\n",
        "  - PythonAnywhere using HTML\n",
        "- If time permits, Web Scraping to obtain data from websites\n",
        "\n",
        "\n",
        "\n",
        "\n"
      ]
    },
    {
      "cell_type": "markdown",
      "metadata": {
        "id": "nwlnTu8_HnZj"
      },
      "source": [
        "##Creating Forms within Google Colab"
      ]
    },
    {
      "cell_type": "code",
      "metadata": {
        "id": "82tT4Hnb1oZY",
        "cellView": "form"
      },
      "source": [
        "#@title Example form fields\n",
        "#@markdown Forms support many types of fields.\n",
        "\n",
        "no_type_checking =   ''#@param\n",
        "string_type = 'example'  #@param {type: \"string\"}\n",
        "slider_value = 160  #@param {type: \"slider\", min: 100, max: 200}\n",
        "number = 102  #@param {type: \"number\"}\n",
        "date = '2010-11-05'  #@param {type: \"date\"}\n",
        "pick_me = \"tuesday\"  #@param ['monday', 'tuesday', 'wednesday', 'thursday']\n",
        "select_or_input = \"apples\" #@param [\"apples\", \"bananas\", \"oranges\"] {allow-input: true}\n",
        "#@markdown ---\n",
        "\n",
        "if pick_me == \"monday\":\n",
        "  print(\"you picked Monday!\")\n",
        "\n",
        "\n"
      ],
      "execution_count": null,
      "outputs": []
    },
    {
      "cell_type": "markdown",
      "metadata": {
        "id": "iDchh9hqH5uE"
      },
      "source": [
        "###Remember the two MBTI questions we created in a Quiz in Psych Python Part 1\n",
        "- Question 1: I try not to draw attention to myself\n",
        "-  2: I have a vivid imagination\n",
        "\n",
        "The answers to these two questions created 7 different outcomes, as shown by lines 33 to 55:\n"
      ]
    },
    {
      "cell_type": "code",
      "metadata": {
        "id": "nPGy7OmUHeeD"
      },
      "source": [
        "Question_1 = input(\"Type a, b, or c, to answer the following question: I try not to draw attention to myself. a-strongly agree, b-neutral, c-strongly disagree\")\n",
        "\n",
        "Question_2 = input(\"Type a, b, or c, to answer the following question: I have a vivid imagination. a-strongly agree, b-neutral, c-strongly disagree\")\n",
        "\n",
        "if Question_1 == \"a\" and Question_2 == \"a\":\n",
        "  print(\"Because you answered 'a' for questions 1 and 2,\")\n",
        "  print(\"you're either an infp or intp!\")\n",
        "if Question_1 == \"a\" and Question_2 == \"b\":\n",
        "  print(\"Because you answered 'a' for Q1 and 'b' for Q2,\")\n",
        "  print(\"you're either an isfp or an istp!\")\n",
        "# There aren't any possibilities for Q1 = a and Q2 = c in this mini test \n",
        "# There aren't any possibilities for Q1 = b and Q2 = b in this mini test\n",
        "if Question_1 == \"b\" and Question_2 == \"a\":\n",
        "  print(\"Because you answered 'b' for Q1 and 'a' for Q2,\")\n",
        "  print(\"you're either an infj or intj!\")\n",
        "if Question_1 == \"b\" and Question_2 == \"c\":\n",
        "  print(\"Because you answered 'b' for Q1 and 'c' for Q2,\")\n",
        "  print(\"you're either an isfj or istj!\")\n",
        "if Question_1 == \"c\" and Question_2 == \"a\":\n",
        "  print(\"Because you answered 'c' for Q1 and 'a' for Q2,\")\n",
        "  print(\"you're either an entj, enfj, enfp, or an entp!\")\n",
        "if Question_1 == \"c\" and Question_2 == \"b\":\n",
        "  print(\"Because you answered 'c' for Q1 and 'b' for Q2,\")\n",
        "  print(\"you're either an esfj or estj!\")\n",
        "if Question_1 == \"c\" and Question_2 == \"c\":\n",
        "  print(\"Because you answered 'c' for Q1 and 'c' for Q2,\")\n",
        "  print(\"you're either an esfp or estp!\")"
      ],
      "execution_count": null,
      "outputs": []
    },
    {
      "cell_type": "markdown",
      "metadata": {
        "id": "bFX_6WxcG7mt"
      },
      "source": [
        "## Creating this MBTI test using Google Forms - No Python or HTML required\n",
        "\n",
        "**Q1** Take this two question quiz to narrow down your type:\n",
        "\n",
        "https://docs.google.com/forms/d/e/1FAIpQLSdyxSopua0-aoPaGTImP6-Vh5KtXTrmyxo4DXM7bkkbMq-LXQ/viewform?usp=sf_link\n",
        "\n",
        "**Q2** Next, follow this link to see how many forms were used to create this quiz:\n",
        "\n",
        "https://docs.google.com/forms/d/1u6AapN5bD1ZmCAT6sErLo9EpYZJmVKRV1uviQxN0xSo/edit\n",
        "\n"
      ]
    },
    {
      "cell_type": "markdown",
      "metadata": {
        "id": "_XFjVxzmG4pO"
      },
      "source": [
        "## Now, creating the same test using Python and HTML\n",
        "We will create this website\n",
        "\n",
        "![PsychWebsiteScreenshot.PNG](https://github.com/BrockDSL/BrockPsych_Python_Collaboration_2021/blob/master/PsychWebsiteScreenshot.PNG?raw=true)"
      ]
    },
    {
      "cell_type": "markdown",
      "metadata": {
        "id": "ydzGSpLSxQtk"
      },
      "source": [
        "**Q3** First, set up an account on PythonAnywhere by following this link:\n",
        "\n",
        "https://www.pythonanywhere.com/login/\n",
        "\n",
        "\n",
        "Once you are logged in, you will see this dashboard\n",
        "\n",
        "![image.png](https://blog.pythonanywhere.com/images/flask-tutorial-initial-dashboard.png)\n",
        "\n",
        "**Q4** Follow this tutorial on how to create a webpage in PythonAnywhere\n",
        "\n",
        "https://github.com/BrockDSL/BrockPsych_Python_Collaboration_2021/blob/master/CreatingWebpagePythonAnywhere.pdf\n",
        "\n",
        "\n",
        "\n",
        "Once you've completed those steps, type **finished** in the chatbox\n",
        "\n"
      ]
    },
    {
      "cell_type": "markdown",
      "metadata": {
        "id": "7uEcEfWmC9yD"
      },
      "source": [
        "###Entering the HTML and Python code for the MBTI test into your webpage\n",
        "**Q5** Delete all of the code in the flask_app.py, and replace it with the following code. "
      ]
    },
    {
      "cell_type": "code",
      "metadata": {
        "id": "yBAp2iDLC8OV"
      },
      "source": [
        "# A very simple Flask Hello World app for you to get started with...\n",
        "\n",
        "from flask import Flask, request\n",
        "\n",
        "\n",
        "app = Flask(__name__)\n",
        "app.config[\"DEBUG\"] = True\n",
        "\n",
        "@app.route(\"/\", methods=[\"GET\", \"POST\"])\n",
        "def adder_page():\n",
        "        return '''\n",
        "        <html>\n",
        "            <body style=\"color: cyan; background-color: grey\">\n",
        "            <img src=\"https://i1.wp.com/paulsohn.org/wp-content/uploads/2015/07/MBTI.jpg?resize=700%2C701\" style=\"float: Right\">\n",
        "            <iframe src=\"https://www.youtube.com/embed/5ASWxOXmF1M\" width=\"650 height=\"240\"></iframe>\n",
        "                <h1>Welcome the the Python MBTI test!</h1>\n",
        "                <h2>Question 1:</h2>\n",
        "                <h3>I try not to draw attention to myself:</h3>\n",
        "                    <form method=\"post\" action=\"mailto:youremail@address.ca\">\n",
        "                    <p><input type=\"radio\" name=\"category1\" value=\"StronglyAgree\">Strongly Agree<br>\n",
        "                    <p><input type=\"radio\" name=\"category1\" value=\"Neutral\">Neutral<br>\n",
        "                    <p><input type=\"radio\" name=\"category1\" value=\"Strongly Disagree\">Strongly Disagree</p>\n",
        "                <h2>Question 2:</h2>\n",
        "                <h3>I have a vivid imagination:</h3>\n",
        "                    <form method=\"post\">\n",
        "                    <p><input type=\"radio\" name=\"category2\" value=\"StronglyAgree\">Strongly Agree<br>\n",
        "                    <p><input type=\"radio\" name=\"category2\" value=\"Neutral\">Neutral<br>\n",
        "                    <p><input type=\"radio\" name=\"category2\" value=\"Strongly Disagree\">Strongly Disagree</p>\n",
        "                    <p><input type=\"submit\" value=\"Submit Responses\" /></p>\n",
        "                </form>\n",
        "            </body>\n",
        "        </html>\n",
        "    '''"
      ],
      "execution_count": null,
      "outputs": []
    },
    {
      "cell_type": "markdown",
      "metadata": {
        "id": "wBev88gXWsXz"
      },
      "source": [
        "###To learn how to generate customized automatic replies to these emails to automatically send participants an email response with their type, follow these links:\n",
        "\n",
        "For Gmail:\n",
        "\n",
        "[![Gmail](https://logodix.com/logo/1288281.png)](https://www.rightinbox.com/blog/how-to-create-an-auto-reply-in-gmail)\n",
        "\n",
        "For Outlook 365 Desktop:\n",
        "\n",
        "[![Outlook](https://media.slipstick.com/images/2019/general/outlook-icon.png)](https://www.emailstopwatch.com/how-to-setup-an-autoresponder-in-microsoft-outlook/ )\n",
        "\n",
        "\n",
        "\n",
        "###To learn how to send submissions automatically from the website (which involves HTML, PHP, and Javascript), go to this link:\n",
        "https://www.campaignmonitor.com/blog/email-marketing/how-to-create-an-html-form-that-emails-responses-to-your-inbox/"
      ]
    },
    {
      "cell_type": "markdown",
      "metadata": {
        "id": "0YKJFcEmWSWj"
      },
      "source": [
        "###Analyzing the HTML tags in the HTML code above\n",
        "\n",
        "\n"
      ]
    },
    {
      "cell_type": "code",
      "metadata": {
        "id": "2ndt4P4MW-Lx"
      },
      "source": [
        "#Enclose everything between <html> and </html>\n",
        "<html>\n",
        "#Enclose the information to be seen by users on the webpage between <body> and </body>\n",
        "  <body>\n",
        "#Enclose all default size text on the webpage between <p> and </p>\n",
        "    <p>Your smaller sized text here</p>\n",
        "#Enclose all larger size text on the webpage between <h1> and </h1> (for really large), between <h2> and </h2> for medium size, etc\n",
        "    <h1>Your large sized text here</h1>\n",
        "#Enclose all forms (i.e. text boxes, checkboxes, and options) between <form> and </form>\n",
        "#In order for the forms to do anything, you need to add 'method=\"poste\" action=\"mailto:youremailaddress\" within the first <form>\n",
        "#So you see, even though we have three sets of forms, we only need to use <form> and </form> once\n",
        "<form method=\"post\" action=\"mailto:rlaritz@brocku.ca\">\n",
        "                    <p><input type=\"radio\" name=\"category1\" value=\"StronglyAgree\">Strongly Agree<br>\n",
        "                    <p><input type=\"radio\" name=\"category1\" value=\"Neutral\">Neutral<br>\n",
        "                    <p><input type=\"radio\" name=\"category1\" value=\"Strongly Disagree\">Strongly Disagree</p>\n",
        "                <h2>Question 2:</h2>\n",
        "                <h3>I have a vivid imagination:</h3>\n",
        "                    <form method=\"post\">\n",
        "                    <p><input type=\"radio\" name=\"category2\" value=\"StronglyAgree\">Strongly Agree<br>\n",
        "                    <p><input type=\"radio\" name=\"category2\" value=\"Neutral\">Neutral<br>\n",
        "                    <p><input type=\"radio\" name=\"category2\" value=\"Strongly Disagree\">Strongly Disagree</p>\n",
        "                    <p><input type=\"submit\" value=\"Submit Responses\" /></p>\n",
        "                </form>\n",
        "  </body>\n",
        "</html>"
      ],
      "execution_count": null,
      "outputs": []
    },
    {
      "cell_type": "markdown",
      "metadata": {
        "id": "x_DW3korfIne"
      },
      "source": [
        "Other input types besides \"radio\"\n",
        "\n",
        "- text\n",
        "- checkbox\n",
        "- range\n",
        "  - Creating a slider\n",
        "```\n",
        "  <input type=\"range> name=\"copie\" min=\"1\"max\"4\" step=\"1\" value=\"1\">\n",
        "```\n",
        "\n",
        "Creating a dropdown list\n",
        "\n",
        "<p>Color: <select name=\"colors\"> size=\"1\"\n",
        "<option>Red</option>\n",
        "<option>Blue</option>\n",
        "<option>Green</option>\n",
        "</select></p>\n",
        "\n",
        "\n",
        "\n"
      ]
    },
    {
      "cell_type": "markdown",
      "metadata": {
        "id": "HbL33aPKj8wr"
      },
      "source": [
        "**Q6** Change some of the input types in your website to text and checkbox \n",
        "\n",
        "**Q7** Copy and paste the following slider into your website\n",
        "\n",
        "```\n",
        "  <input type=\"range> name=\"copie\" min=\"1\"max\"4\" step=\"1\" value=\"1\">\n",
        "```\n",
        "\n",
        "**Q8** Copy and paste the following dropdown list into your website\n",
        "\n",
        "<p>Color: <select name=\"colors\"> size=\"1\"\n",
        "<option>Red</option>\n",
        "<option>Blue</option>\n",
        "<option>Green</option>\n",
        "</select></p>"
      ]
    },
    {
      "cell_type": "markdown",
      "metadata": {
        "id": "ALcuq2OeqGmn"
      },
      "source": [
        "### Adding Javascript right before the \n",
        " ```  </body> ```  to generate a pop-up message when the page is first launched       \n",
        "            \n",
        "            <script type=\"text/javascript\">\n",
        "                alert(\"hello world\")\n",
        "            </script>\n",
        "            \n",
        "          "
      ]
    },
    {
      "cell_type": "markdown",
      "metadata": {
        "id": "vb5f2VY4rFeM"
      },
      "source": [
        "**Q9** Add the above javascript to your webpage code"
      ]
    },
    {
      "cell_type": "markdown",
      "metadata": {
        "id": "E6zhQiNKCRF4"
      },
      "source": [
        "###Congratulations! You have completed part 3 of Python Fundamentals"
      ]
    }
  ]
}
