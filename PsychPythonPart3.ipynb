{
  "nbformat": 4,
  "nbformat_minor": 0,
  "metadata": {
    "colab": {
      "name": "PsychPythonPart3.ipynb",
      "provenance": [],
      "collapsed_sections": []
    },
    "kernelspec": {
      "name": "python3",
      "display_name": "Python 3"
    },
    "language_info": {
      "name": "python"
    }
  },
  "cells": [
    {
      "cell_type": "markdown",
      "metadata": {
        "id": "elCkxrZqDx4v"
      },
      "source": [
        "![DSL_logo](https://github.com/BrockDSL/Intro_to_Python_Workshop/blob/master/dsl_logo.png?raw=1) \n",
        "\n",
        "![PythonPsycology](http://www.pygaze.org/wp-content/uploads/2016/10/Dalmaijer_2016_PEP-1024x356.jpg)\n",
        "\n",
        "# Welcome to Python for Psycholgy Part 3! \n",
        "\n",
        "By the end of today we'll know all about the following; \n",
        "\n",
        "- Create online tests for participants that generate output based on their responses \n",
        "  - Google Forms\n",
        "  - PythonAnywhere using HTML\n",
        "- If time permits, Web Scraping to obtain data from websites\n",
        "\n",
        "\n",
        "\n",
        "\n"
      ]
    },
    {
      "cell_type": "markdown",
      "metadata": {
        "id": "nwlnTu8_HnZj"
      },
      "source": [
        "##Creating Forms within Google Colab"
      ]
    },
    {
      "cell_type": "code",
      "metadata": {
        "id": "82tT4Hnb1oZY",
        "cellView": "form"
      },
      "source": [
        "#@title Example form fields\n",
        "#@markdown Forms support many types of fields.\n",
        "\n",
        "no_type_checking =   ''#@param\n",
        "string_type = 'example'  #@param {type: \"string\"}\n",
        "slider_value = 160  #@param {type: \"slider\", min: 100, max: 200}\n",
        "number = 102  #@param {type: \"number\"}\n",
        "date = '2010-11-05'  #@param {type: \"date\"}\n",
        "pick_me = \"tuesday\"  #@param ['monday', 'tuesday', 'wednesday', 'thursday']\n",
        "select_or_input = \"apples\" #@param [\"apples\", \"bananas\", \"oranges\"] {allow-input: true}\n",
        "#@markdown ---\n",
        "\n",
        "if pick_me == \"monday\":\n",
        "  print(\"you picked Monday!\")\n",
        "\n",
        "\n"
      ],
      "execution_count": null,
      "outputs": []
    },
    {
      "cell_type": "markdown",
      "metadata": {
        "id": "iDchh9hqH5uE"
      },
      "source": [
        "###Remember the two MBTI questions we created in a Quiz in Psych Python Part 1\n",
        "- Question 1: I try not to draw attention to myself\n",
        "-  2: I have a vivid imagination\n",
        "\n",
        "The answers to these two questions created 7 different outcomes, as shown by lines 33 to 55:\n"
      ]
    },
    {
      "cell_type": "code",
      "metadata": {
        "id": "nPGy7OmUHeeD"
      },
      "source": [
        "Question_1 = input(\"Type a, b, or c, to answer the following question: I try not to draw attention to myself. a-strongly agree, b-neutral, c-strongly disagree\")\n",
        "\n",
        "Question_2 = input(\"Type a, b, or c, to answer the following question: I have a vivid imagination. a-strongly agree, b-neutral, c-strongly disagree\")\n",
        "\n",
        "if Question_1 == \"a\" and Question_2 == \"a\":\n",
        "  print(\"Because you answered 'a' for questions 1 and 2,\")\n",
        "  print(\"you're either an infp or intp!\")\n",
        "if Question_1 == \"a\" and Question_2 == \"b\":\n",
        "  print(\"Because you answered 'a' for Q1 and 'b' for Q2,\")\n",
        "  print(\"you're either an isfp or an istp!\")\n",
        "# There aren't any possibilities for Q1 = a and Q2 = c in this mini test \n",
        "# There aren't any possibilities for Q1 = b and Q2 = b in this mini test\n",
        "if Question_1 == \"b\" and Question_2 == \"a\":\n",
        "  print(\"Because you answered 'b' for Q1 and 'a' for Q2,\")\n",
        "  print(\"you're either an infj or intj!\")\n",
        "if Question_1 == \"b\" and Question_2 == \"c\":\n",
        "  print(\"Because you answered 'b' for Q1 and 'c' for Q2,\")\n",
        "  print(\"you're either an isfj or istj!\")\n",
        "if Question_1 == \"c\" and Question_2 == \"a\":\n",
        "  print(\"Because you answered 'c' for Q1 and 'a' for Q2,\")\n",
        "  print(\"you're either an entj, enfj, enfp, or an entp!\")\n",
        "if Question_1 == \"c\" and Question_2 == \"b\":\n",
        "  print(\"Because you answered 'c' for Q1 and 'b' for Q2,\")\n",
        "  print(\"you're either an esfj or estj!\")\n",
        "if Question_1 == \"c\" and Question_2 == \"c\":\n",
        "  print(\"Because you answered 'c' for Q1 and 'c' for Q2,\")\n",
        "  print(\"you're either an esfp or estp!\")"
      ],
      "execution_count": null,
      "outputs": []
    },
    {
      "cell_type": "markdown",
      "metadata": {
        "id": "bFX_6WxcG7mt"
      },
      "source": [
        "## Creating this MBTI test using Google Forms - No Python or HTML required\n",
        "\n",
        "**Q1** Go to Google Forms, open a blank form\n",
        "\n",
        "\n",
        "\n",
        "**Q2** Next, use this pdf guide to enter in the quiz questions:\n",
        "\n",
        "https://github.com/BrockDSL/BrockPsych_Python_Collaboration_2021/blob/master/Copy%20of%20MBTI%20Quiz%20-%20Google%20Forms.pdf \n",
        "\n",
        "\n",
        "\n"
      ]
    },
    {
      "cell_type": "markdown",
      "metadata": {
        "id": "DURVlvCBVwuV"
      },
      "source": [
        "###You can download the csv file of the data obtained from the forms Quiz \n",
        "How to upload a csv file from your computer:"
      ]
    },
    {
      "cell_type": "code",
      "metadata": {
        "colab": {
          "resources": {
            "http://localhost:8080/nbextensions/google.colab/files.js": {
              "data": "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",
              "ok": true,
              "headers": [
                [
                  "content-type",
                  "application/javascript"
                ]
              ],
              "status": 200,
              "status_text": ""
            }
          },
          "base_uri": "https://localhost:8080/",
          "height": 72
        },
        "id": "9vQ4JHfeVoDG",
        "outputId": "9fcb2ff4-d97a-4300-b283-3c7f0ed94079"
      },
      "source": [
        "#Uploading a csv file from your computer\n",
        "from google.colab import files\n",
        "uploaded = files.upload()"
      ],
      "execution_count": 3,
      "outputs": [
        {
          "output_type": "display_data",
          "data": {
            "text/html": [
              "\n",
              "     <input type=\"file\" id=\"files-9eabe397-8158-4e2e-8867-05ce0960d363\" name=\"files[]\" multiple disabled\n",
              "        style=\"border:none\" />\n",
              "     <output id=\"result-9eabe397-8158-4e2e-8867-05ce0960d363\">\n",
              "      Upload widget is only available when the cell has been executed in the\n",
              "      current browser session. Please rerun this cell to enable.\n",
              "      </output>\n",
              "      <script src=\"/nbextensions/google.colab/files.js\"></script> "
            ],
            "text/plain": [
              "<IPython.core.display.HTML object>"
            ]
          },
          "metadata": {}
        },
        {
          "output_type": "stream",
          "name": "stdout",
          "text": [
            "Saving MBTI Quiz.csv to MBTI Quiz.csv\n"
          ]
        }
      ]
    },
    {
      "cell_type": "code",
      "metadata": {
        "colab": {
          "base_uri": "https://localhost:8080/",
          "height": 202
        },
        "id": "AUUbFzcQWMcN",
        "outputId": "3746001f-2acd-4d57-92b6-dfcaed4a1cc1"
      },
      "source": [
        "import pandas as pd\n",
        "import io\n",
        "df = pd.read_csv(io.StringIO(uploaded['MBTI Quiz.csv'].decode('utf-8')))\n",
        "df.head(10)"
      ],
      "execution_count": 5,
      "outputs": [
        {
          "output_type": "execute_result",
          "data": {
            "text/html": [
              "<div>\n",
              "<style scoped>\n",
              "    .dataframe tbody tr th:only-of-type {\n",
              "        vertical-align: middle;\n",
              "    }\n",
              "\n",
              "    .dataframe tbody tr th {\n",
              "        vertical-align: top;\n",
              "    }\n",
              "\n",
              "    .dataframe thead th {\n",
              "        text-align: right;\n",
              "    }\n",
              "</style>\n",
              "<table border=\"1\" class=\"dataframe\">\n",
              "  <thead>\n",
              "    <tr style=\"text-align: right;\">\n",
              "      <th></th>\n",
              "      <th>Timestamp</th>\n",
              "      <th>Total score</th>\n",
              "      <th>I try not to draw attention to myself</th>\n",
              "      <th>I try not to draw attention to myself [Score]</th>\n",
              "      <th>I try not to draw attention to myself [Feedback]</th>\n",
              "      <th>I have a vivid imagination</th>\n",
              "      <th>I have a vivid imagination [Score]</th>\n",
              "      <th>I have a vivid imagination [Feedback]</th>\n",
              "      <th>I have a vivid imagination.1</th>\n",
              "      <th>I have a vivid imagination [Score].1</th>\n",
              "      <th>I have a vivid imagination [Feedback].1</th>\n",
              "      <th>I have a vivid imagination.2</th>\n",
              "      <th>I have a vivid imagination [Score].2</th>\n",
              "      <th>I have a vivid imagination [Feedback].2</th>\n",
              "    </tr>\n",
              "  </thead>\n",
              "  <tbody>\n",
              "    <tr>\n",
              "      <th>0</th>\n",
              "      <td>2021/11/09 1:41:01 p.m. EST</td>\n",
              "      <td>0.00 / 0</td>\n",
              "      <td>Strongly Disagree</td>\n",
              "      <td>0.00 / 0</td>\n",
              "      <td>NaN</td>\n",
              "      <td>NaN</td>\n",
              "      <td>NaN</td>\n",
              "      <td>NaN</td>\n",
              "      <td>NaN</td>\n",
              "      <td>NaN</td>\n",
              "      <td>NaN</td>\n",
              "      <td>Strongly agree</td>\n",
              "      <td>0.00 / 0</td>\n",
              "      <td>NaN</td>\n",
              "    </tr>\n",
              "  </tbody>\n",
              "</table>\n",
              "</div>"
            ],
            "text/plain": [
              "                     Timestamp  ... I have a vivid imagination [Feedback].2\n",
              "0  2021/11/09 1:41:01 p.m. EST  ...                                     NaN\n",
              "\n",
              "[1 rows x 14 columns]"
            ]
          },
          "metadata": {},
          "execution_count": 5
        }
      ]
    },
    {
      "cell_type": "markdown",
      "metadata": {
        "id": "_XFjVxzmG4pO"
      },
      "source": [
        "## Now, creating the same test using Python and HTML\n",
        "We will create this website\n",
        "\n",
        "![PsychWebsiteScreenshot.PNG](https://github.com/BrockDSL/BrockPsych_Python_Collaboration_2021/blob/master/PsychWebsiteScreenshot.PNG?raw=true)"
      ]
    },
    {
      "cell_type": "markdown",
      "metadata": {
        "id": "ydzGSpLSxQtk"
      },
      "source": [
        "**Q3** First, set up an account on PythonAnywhere by following this link:\n",
        "\n",
        "https://www.pythonanywhere.com/login/\n",
        "\n",
        "\n",
        "Once you are logged in, you will see this dashboard\n",
        "\n",
        "![image.png](https://blog.pythonanywhere.com/images/flask-tutorial-initial-dashboard.png)\n",
        "\n",
        "**Q4** Follow this tutorial on how to create a webpage in PythonAnywhere\n",
        "\n",
        "https://brocku-my.sharepoint.com/:b:/g/personal/rlaritz_brocku_ca/Eeemn-XBF_5PoJhKDsYgw20BnYoPb16cuS9m122MIo07HA?e=AWi7ql\n",
        "\n",
        "\n",
        "\n",
        "Once you've completed those steps, type **finished** in the chatbox\n",
        "\n"
      ]
    },
    {
      "cell_type": "markdown",
      "metadata": {
        "id": "7uEcEfWmC9yD"
      },
      "source": [
        "###Entering the HTML and Python code for the MBTI test into your webpage\n",
        "**Q5** Delete all of the code in the flask_app.py, and replace it with the following code. "
      ]
    },
    {
      "cell_type": "code",
      "metadata": {
        "id": "yBAp2iDLC8OV"
      },
      "source": [
        "# A very simple Flask Hello World app for you to get started with...\n",
        "\n",
        "from flask import Flask, request\n",
        "\n",
        "\n",
        "app = Flask(__name__)\n",
        "app.config[\"DEBUG\"] = True\n",
        "\n",
        "@app.route(\"/\", methods=[\"GET\", \"POST\"])\n",
        "def adder_page():\n",
        "        return '''\n",
        "        <html>\n",
        "            <body style=\"color: cyan; background-color: grey\">\n",
        "            <img src=\"https://i1.wp.com/paulsohn.org/wp-content/uploads/2015/07/MBTI.jpg?resize=700%2C701\" style=\"float: Right\">\n",
        "            <iframe src=\"https://www.youtube.com/embed/5ASWxOXmF1M\" width=\"650 height=\"240\"></iframe>\n",
        "                <h1>Welcome the the Python MBTI test!</h1>\n",
        "                <h2>Question 1:</h2>\n",
        "                <h3>I try not to draw attention to myself:</h3>\n",
        "                    <form method=\"post\" action=\"mailto:youremail@address.ca\">\n",
        "                    <p><input type=\"radio\" name=\"category1\" value=\"StronglyAgree\">Strongly Agree<br>\n",
        "                    <p><input type=\"radio\" name=\"category1\" value=\"Neutral\">Neutral<br>\n",
        "                    <p><input type=\"radio\" name=\"category1\" value=\"Strongly Disagree\">Strongly Disagree</p>\n",
        "                <h2>Question 2:</h2>\n",
        "                <h3>I have a vivid imagination:</h3>\n",
        "                    <form method=\"post\">\n",
        "                    <p><input type=\"radio\" name=\"category2\" value=\"StronglyAgree\">Strongly Agree<br>\n",
        "                    <p><input type=\"radio\" name=\"category2\" value=\"Neutral\">Neutral<br>\n",
        "                    <p><input type=\"radio\" name=\"category2\" value=\"Strongly Disagree\">Strongly Disagree</p>\n",
        "                    <p><input type=\"submit\" value=\"Submit Responses\" /></p>\n",
        "                </form>\n",
        "            </body>\n",
        "        </html>\n",
        "    '''"
      ],
      "execution_count": null,
      "outputs": []
    },
    {
      "cell_type": "markdown",
      "metadata": {
        "id": "wBev88gXWsXz"
      },
      "source": [
        "###To learn how to generate customized automatic replies to these emails to automatically send participants an email response with their type, follow these links:\n",
        "\n",
        "For Gmail:\n",
        "\n",
        "[![Gmail](https://logodix.com/logo/1288281.png)](https://www.rightinbox.com/blog/how-to-create-an-auto-reply-in-gmail)\n",
        "\n",
        "For Outlook 365 Desktop:\n",
        "\n",
        "[![Outlook](https://media.slipstick.com/images/2019/general/outlook-icon.png)](https://www.emailstopwatch.com/how-to-setup-an-autoresponder-in-microsoft-outlook/ )\n",
        "\n",
        "\n",
        "\n",
        "###To learn how to send submissions automatically from the website (which involves HTML, PHP, and Javascript), go to this link:\n",
        "https://www.campaignmonitor.com/blog/email-marketing/how-to-create-an-html-form-that-emails-responses-to-your-inbox/"
      ]
    },
    {
      "cell_type": "markdown",
      "metadata": {
        "id": "0YKJFcEmWSWj"
      },
      "source": [
        "###Analyzing the HTML tags in the HTML code above\n",
        "\n",
        "\n"
      ]
    },
    {
      "cell_type": "code",
      "metadata": {
        "id": "2ndt4P4MW-Lx"
      },
      "source": [
        "#Enclose everything between <html> and </html>\n",
        "<html>\n",
        "#Enclose the information to be seen by users on the webpage between <body> and </body>\n",
        "  <body>\n",
        "#Enclose all default size text on the webpage between <p> and </p>\n",
        "    <p>Your smaller sized text here</p>\n",
        "#Enclose all larger size text on the webpage between <h1> and </h1> (for really large), between <h2> and </h2> for medium size, etc\n",
        "    <h1>Your large sized text here</h1>\n",
        "#Enclose all forms (i.e. text boxes, checkboxes, and options) between <form> and </form>\n",
        "#In order for the forms to do anything, you need to add 'method=\"poste\" action=\"mailto:youremailaddress\" within the first <form>\n",
        "#So you see, even though we have three sets of forms, we only need to use <form> and </form> once\n",
        "<form method=\"post\" action=\"mailto:rlaritz@brocku.ca\">\n",
        "                    <p><input type=\"radio\" name=\"category1\" value=\"StronglyAgree\">Strongly Agree<br>\n",
        "                    <p><input type=\"radio\" name=\"category1\" value=\"Neutral\">Neutral<br>\n",
        "                    <p><input type=\"radio\" name=\"category1\" value=\"Strongly Disagree\">Strongly Disagree</p>\n",
        "                <h2>Question 2:</h2>\n",
        "                <h3>I have a vivid imagination:</h3>\n",
        "                    <form method=\"post\">\n",
        "                    <p><input type=\"radio\" name=\"category2\" value=\"StronglyAgree\">Strongly Agree<br>\n",
        "                    <p><input type=\"radio\" name=\"category2\" value=\"Neutral\">Neutral<br>\n",
        "                    <p><input type=\"radio\" name=\"category2\" value=\"Strongly Disagree\">Strongly Disagree</p>\n",
        "                    <p><input type=\"submit\" value=\"Submit Responses\" /></p>\n",
        "                </form>\n",
        "  </body>\n",
        "</html>"
      ],
      "execution_count": null,
      "outputs": []
    },
    {
      "cell_type": "markdown",
      "metadata": {
        "id": "x_DW3korfIne"
      },
      "source": [
        "Other input types besides \"radio\"\n",
        "\n",
        "- text\n",
        "- checkbox\n",
        "- range\n",
        "  - Creating a slider\n",
        "```\n",
        "  <input type=\"range> name=\"copie\" min=\"1\"max\"4\" step=\"1\" value=\"1\">\n",
        "```\n",
        "\n",
        "Creating a dropdown list\n",
        "\n",
        "<p>Color: <select name=\"colors\"> size=\"1\"\n",
        "<option>Red</option>\n",
        "<option>Blue</option>\n",
        "<option>Green</option>\n",
        "</select></p>\n",
        "\n",
        "\n",
        "\n"
      ]
    },
    {
      "cell_type": "markdown",
      "metadata": {
        "id": "HbL33aPKj8wr"
      },
      "source": [
        "**Q6** Change some of the input types in your website to text and checkbox \n",
        "\n",
        "**Q7** Copy and paste the following slider into your website\n",
        "\n",
        "```\n",
        "  <input type=\"range> name=\"copie\" min=\"1\"max\"4\" step=\"1\" value=\"1\">\n",
        "```\n",
        "\n",
        "**Q8** Copy and paste the following dropdown list into your website\n",
        "\n",
        "<p>Color: <select name=\"colors\"> size=\"1\"\n",
        "<option>Red</option>\n",
        "<option>Blue</option>\n",
        "<option>Green</option>\n",
        "</select></p>"
      ]
    },
    {
      "cell_type": "markdown",
      "metadata": {
        "id": "ALcuq2OeqGmn"
      },
      "source": [
        "### Adding Javascript right before the \n",
        " ```  </body> ```  to generate a pop-up message when the page is first launched       \n",
        "            \n",
        "            <script type=\"text/javascript\">\n",
        "                alert(\"hello world\")\n",
        "            </script>\n",
        "            \n",
        "          "
      ]
    },
    {
      "cell_type": "markdown",
      "metadata": {
        "id": "vb5f2VY4rFeM"
      },
      "source": [
        "**Q9** Add the above javascript to your webpage code"
      ]
    },
    {
      "cell_type": "markdown",
      "metadata": {
        "id": "X08kyYFbpp8U"
      },
      "source": [
        "###Intro to Web Scraping"
      ]
    },
    {
      "cell_type": "code",
      "metadata": {
        "id": "5UxKiyvFp0uL"
      },
      "source": [
        "import requests\n",
        "from bs4 import BeautifulSoup\n",
        "\n",
        "# Make a request to https://www.truity.com/test/type-finder-personality-test-new\n",
        "page = requests.get(\n",
        "    \"https://www.truity.com/test/type-finder-personality-test-new\")\n",
        "soup = BeautifulSoup(page.content, 'html.parser')\n",
        "\n",
        "# Extract title of page\n",
        "page_title = soup.title.text\n",
        "\n",
        "# print the result\n",
        "print(page_title)"
      ],
      "execution_count": null,
      "outputs": []
    },
    {
      "cell_type": "markdown",
      "metadata": {
        "id": "2fiLVrKQq2PD"
      },
      "source": [
        "**Q10** Scrape the title of the website for another version of the MBTI test:\n",
        "\n",
        "    https://discover.csjoseph.life/ "
      ]
    },
    {
      "cell_type": "code",
      "metadata": {
        "id": "vWOD6eFEqC4C"
      },
      "source": [
        " # Make a request to https://discover.csjoseph.life/\n",
        "page = requests.get(\n",
        "    \"ChangeMe\")\n",
        "soup = BeautifulSoup(page.content, 'html.parser')\n",
        "\n",
        "# Extract title of page\n",
        "page_title = soup.title.text\n",
        "\n",
        "# print the result\n",
        "print(page_title)"
      ],
      "execution_count": null,
      "outputs": []
    },
    {
      "cell_type": "markdown",
      "metadata": {
        "id": "t5Rw1fmKv5IT"
      },
      "source": [
        "**Q11** Scrape Heading 1 from the pythonanywhere website you created"
      ]
    },
    {
      "cell_type": "code",
      "metadata": {
        "id": "Q4i_NmsCvnXC"
      },
      "source": [
        "# Make a request\n",
        "page = requests.get(\n",
        "    \"ChangeMe\")\n",
        "soup = BeautifulSoup(page.content, 'html.parser')\n",
        "\n",
        "# Create all_h1_tags as empty list\n",
        "all_h1_tags = []\n",
        "\n",
        "# Set all_h1_tags to all h1 tags of the soup\n",
        "for element in soup.select('h1'):\n",
        "    all_h1_tags.append(element.text)\n",
        "\n",
        "# Create seventh_p_text and set it to 7th p element text of the page\n",
        "seventh_p_text = soup.select('p')[6].text\n",
        "\n",
        "print(all_h1_tags, seventh_p_text)"
      ],
      "execution_count": null,
      "outputs": []
    },
    {
      "cell_type": "markdown",
      "metadata": {
        "id": "CuHi06wJx1ts"
      },
      "source": [
        "**Q12** Scrape all Heading 3 tags to get a list of the two questions in your website"
      ]
    },
    {
      "cell_type": "code",
      "metadata": {
        "colab": {
          "base_uri": "https://localhost:8080/"
        },
        "id": "PfqSHkIXxRGJ",
        "outputId": "0bd1721c-d95c-4159-9615-cdb523a76f3d"
      },
      "source": [
        "# Make a request\n",
        "page = requests.get(\n",
        "    \"ChangeMe\")\n",
        "soup = BeautifulSoup(page.content, 'html.parser')\n",
        "\n",
        "# Create all_h1_tags as empty list\n",
        "all_h1_tags = []\n",
        "\n",
        "# Set all_h1_tags to all h1 tags of the soup\n",
        "for element in soup.select('ChangeMe'):\n",
        "    all_h1_tags.append(element.text)\n",
        "\n",
        "# Create seventh_p_text and set it to 7th p element text of the page\n",
        "seventh_p_text = soup.select('p')[6].text\n",
        "\n",
        "print(all_h1_tags, seventh_p_text)"
      ],
      "execution_count": null,
      "outputs": [
        {
          "output_type": "stream",
          "name": "stdout",
          "text": [
            "['I try not to draw attention to myself:', 'I have a vivid imagination:'] \n"
          ]
        }
      ]
    },
    {
      "cell_type": "markdown",
      "metadata": {
        "id": "ZPIBVAO08Nnu"
      },
      "source": [
        "**Q13** Find all of the rest of the text on your webpage using the p tag"
      ]
    },
    {
      "cell_type": "code",
      "metadata": {
        "id": "sIicljE5yp5n"
      },
      "source": [
        "# Make a request\n",
        "page = requests.get(\n",
        "    \"ChangeMe\")\n",
        "soup = BeautifulSoup(page.content, 'html.parser')\n",
        "\n",
        "# Create all_h1_tags as empty list\n",
        "all_h1_tags = []\n",
        "\n",
        "# Set all_h1_tags to all h1 tags of the soup\n",
        "for element in soup.select('p'):\n",
        "    all_h1_tags.append(element.text)\n",
        "\n",
        "# Create seventh_p_text and set it to 7th p element text of the page\n",
        "seventh_p_text = soup.select('p')[6].text\n",
        "\n",
        "print(all_h1_tags, seventh_p_text)"
      ],
      "execution_count": null,
      "outputs": []
    },
    {
      "cell_type": "markdown",
      "metadata": {
        "id": "E6zhQiNKCRF4"
      },
      "source": [
        "###Congratulations! You have completed part 3 of Python Fundamentals"
      ]
    }
  ]
}