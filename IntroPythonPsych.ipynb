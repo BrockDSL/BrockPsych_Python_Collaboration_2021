{
  "nbformat": 4,
  "nbformat_minor": 0,
  "metadata": {
    "kernelspec": {
      "display_name": "Python 3",
      "language": "python",
      "name": "python3"
    },
    "language_info": {
      "codemirror_mode": {
        "name": "ipython",
        "version": 3
      },
      "file_extension": ".py",
      "mimetype": "text/x-python",
      "name": "python",
      "nbconvert_exporter": "python",
      "pygments_lexer": "ipython3",
      "version": "3.7.3"
    },
    "colab": {
      "name": "IntroPythonPsych.ipynb",
      "provenance": [],
      "collapsed_sections": []
    }
  },
  "cells": [
    {
      "cell_type": "markdown",
      "metadata": {
        "id": "-jhc2IZrklzg"
      },
      "source": [
        "![DSL_logo](https://github.com/BrockDSL/Intro_to_Python_Workshop/blob/master/dsl_logo.png?raw=1) \n",
        " \n",
        "\n",
        "![PythonPsycology](http://www.pygaze.org/wp-content/uploads/2016/10/Dalmaijer_2016_PEP-1024x356.jpg) \n",
        "\n",
        "  \n",
        "\n",
        "Welcome to the Digital Scholarship Lab introduction to Python class. By the end of today we'll know all about the following; \n",
        "\n",
        "- variables \n",
        "\n",
        "- math \n",
        "\n",
        "- conditional \n",
        "\n",
        "- loops \n",
        "\n",
        "- functions \n",
        "\n",
        "We'll use the Zoom's chat feature to interact. \n",
        "\n",
        "  \n",
        "\n",
        "Be sure to enable line numbers by looking for the 'gear' icon and checking the box in the 'Editor' panel. \n",
        "\n",
        "  \n",
        "\n",
        "Be sure to also 'Save a Copy' under the Edit menu. \n",
        "\n",
        " \n",
        "\n",
        "## Python via Jupyter \n",
        "\n",
        "\n",
        "- Jupyter notebooks allow us to have code in a webpage \n",
        "\n",
        "- We'll use Python version 3! Honestly you shouldn't be using Python 2.X any longer \n",
        "\n",
        "- Each bit of code is in a 'cell'. We hit the play button to run each cell \n",
        "\n",
        "- Try it with the next cell. \n",
        "\n",
        "#Which Myers and Briggs (MBTI) type are you? \n",
        "Take the quiz in the next cell to find out!\n",
        "\n",
        "![image.png](https://blog.trginternational.com/hs-fs/hubfs/images/MyersBriggsTypes.png?width=711&name=MyersBriggsTypes.png)\n",
        "\n",
        "## Take this Quiz to discover which Myers and Briggs Personality type you have!\n",
        "Answer the following questions, and get an answer!"
      ]
    },
    {
      "cell_type": "code",
      "metadata": {
        "id": "huOUsBr2klzr"
      },
      "source": [
        "# We are going to ask for the user to input their name, hometown, and province \n",
        "\n",
        "# We'll then tell that person hello \n",
        "\n",
        "print(\"Hello Python User!\")  \n",
        "\n",
        "user_name = input(\"What is your name? \") \n",
        "\n",
        "user_hometown = input(\"What town are you from? \") \n",
        "\n",
        "user_hometown_province = input(\"What province are you from? \") \n",
        "\n",
        "print(\"Hello \" + user_name + \" \" + \"from \" + user_hometown + \" \" + user_hometown_province + \"! Thank you for participating in this workshop!\")\n",
        "print(\"You're the INFJ!\") "
      ],
      "execution_count": null,
      "outputs": []
    },
    {
      "cell_type": "markdown",
      "metadata": {
        "id": "ITc7Q5vaklzt"
      },
      "source": [
        "- Lines 1 to 2 are notes to help programmers of all levels of experience remember what the code is for \n",
        "\n",
        "    - indicated by '#' \n",
        "\n",
        "- Lines 4 to 7 are are examples of variables and functions \n",
        "    - Examples of variables: \n",
        "        - user_name = x\n",
        "        - user_hometown = x\n",
        "        - user_hometown_province = x\n",
        "    - Examples of functions: \n",
        "        - print()\n",
        "            - used to write something exactly as it appears in the parentheses\n",
        "        - input()\n",
        "    - shows the use of \" \" required to create spaces between words \n",
        "    - Note that functions are all lowercase, otherwise it won't execute.\n",
        "        - i.e. 'print' not 'Print'"
      ]
    },
    {
      "cell_type": "markdown",
      "metadata": {
        "id": "H14htFRsklzu"
      },
      "source": [
        "### Types of Variables, and how they are written within the functions\n",
        "\n",
        "- Strings\n",
        "    - a.k.a words and sentences\n",
        "        - user_hometown = \"London\"\n",
        "    - Within the parentheses () of a function, strings are written within quotation marks \"\"\n",
        "    - Ex. print(\"Hello Python User!\")\n",
        "    - Ex. input(\"What is your name? \")\n",
        "        - Notice that it even executes the space after the '?'\n",
        "- Integers, real numbers, or pretty much anything else\n",
        "    - can be written in the parenthesis without quotation marks."
      ]
    },
    {
      "cell_type": "code",
      "metadata": {
        "id": "FXPbrUr2klzv"
      },
      "source": [
        "# A number with a decimal is called a real\n",
        "pi = 3.14\n",
        "\n",
        "#A number with no decimal is called an integer\n",
        "days_in_a_week = 7\n",
        "\n",
        "number_of_mbti = 16\n",
        "\n",
        "#Text in variable is called a string\n",
        "favourite_color = \"blue\"\n",
        "\n",
        "#You can list multiple values in one variable\n",
        "#This is called a list, they can have anything in them\n",
        "\n",
        "Y_Axis = [0, 0.1, 0.2, 0.3, 0.4, 0.5]\n",
        "crayon_colours = [\"red\",\"blue\",\"yellow\"]\n",
        "mbti_types = [\"isfp\", \"istp\", \"infp\", \"infj\", \"intj\", \"intp\", \"entp\", \"esfj\", \"isfj\", \"estj\", \"estp\", \"entj\", \"enfj\", \"esfp\", \"enfp\", \"istj\"]"
      ],
      "execution_count": null,
      "outputs": []
    },
    {
      "cell_type": "markdown",
      "metadata": {
        "id": "Egwk224fklzw"
      },
      "source": [
        "Try questions Q1 - Q3 and type \"Done!\" in the chat when you are finished\n",
        "- **Q1** Can you create a variable called year and set it to the current year? (remember to hit the run or play button afterwards)"
      ]
    },
    {
      "cell_type": "code",
      "metadata": {
        "id": "-zF7qcWkklzx"
      },
      "source": [
        ""
      ],
      "execution_count": null,
      "outputs": []
    },
    {
      "cell_type": "markdown",
      "metadata": {
        "id": "ryIZ31G5klzy"
      },
      "source": [
        "- **Q2** Can you use the print function to print the current year to the screen? "
      ]
    },
    {
      "cell_type": "code",
      "metadata": {
        "id": "i3xdTgpiklzz"
      },
      "source": [
        "print()"
      ],
      "execution_count": null,
      "outputs": []
    },
    {
      "cell_type": "markdown",
      "metadata": {
        "id": "38kQl0fDklz0"
      },
      "source": [
        "- If we want to combine things and print them all together we join them with at + just like we saw above\n",
        "\n",
        "print(\"Hello \" + user_name + \" \" + \"from \" + user_hometown + \" \" + user_hometown_province + \"! Thank you for participating in this workshop!\")\n",
        "\n",
        "- **Q3** Can you modify favourite colour above, re-run the cell and complete the print statement that follows (by typing in variables after the '+' signs)"
      ]
    },
    {
      "cell_type": "code",
      "metadata": {
        "id": "tppwT1Ogklz1"
      },
      "source": [
        "print(\"My name is \" +  + \" and my favourite colour is \" + )"
      ],
      "execution_count": null,
      "outputs": []
    },
    {
      "cell_type": "markdown",
      "metadata": {
        "id": "3pc_xGJKklz2"
      },
      "source": [
        "## **A Python thing to keep in mind!**\n",
        "- Some programming languages need a ; at the end of a line of code, not Python!\n",
        "- With Python you need to indent your code, the rest of the examples will demonstrate this\n",
        "____________________________________________________________"
      ]
    },
    {
      "cell_type": "markdown",
      "metadata": {
        "id": "GJpa-a_jklz5"
      },
      "source": [
        "## Variables - Dictionaries\n",
        "\n",
        "- These are fancy variables\n",
        "- These are a bit more complicated as they hold both a 'key' and a 'value'"
      ]
    },
    {
      "cell_type": "code",
      "metadata": {
        "id": "8wmO3Ituklz5"
      },
      "source": [
        "phone_numbers = {\n",
        "    \"Mom\":\"555-8980\",\n",
        "    \"Joe\":\"555-1021\"\n",
        "}\n",
        "\n",
        "toronto_weather = {\n",
        "          \"Monday\": 10,\n",
        "          \"Tuesday\" : 12,\n",
        "          \"Wednesday\" : 15,\n",
        "          \"Thursday\" : 10,\n",
        "          \"Friday\" : 9,\n",
        "          \"Saturday\" : 6,\n",
        "          \"Sunday\" : 6\n",
        "    }\n",
        "\n",
        "mbti_descriptions = {\"isfp\":\"fi, se, ni, te\",\n",
        "                     \"istp\":\"ti, se, ni, fe\",\n",
        "                     \"infp\":\"fi, ne, si, te\",\n",
        "                     \"infj\":\"ni, fe, ti, se\",\n",
        "                     \"intj\":\"ni, te, fi, se\",\n",
        "                     \"intp\":\"ti, ne, si, fe\",\n",
        "                     \"entp\":\"ne, ti, fe, si\",\n",
        "                     \"esfj\":\"fe, si, ne, ti\",\n",
        "                     \"isfj\":\"si, fe, ti, ne\",\n",
        "                     \"estj\":\"te, si, ne, fi\",\n",
        "                     \"estp\":\"se, ti, fe, ni\",\n",
        "                     \"entj\":\"te, ni, se, fi\",\n",
        "                     \"enfj\":\"fe, ni, se, ti\",\n",
        "                     \"esfp\":\"se, fi, te, ni\",\n",
        "                     \"enfp\":\"ne, fi, te, si\",\n",
        "                     \"istj\":\"si, te, fi, ne\"\n",
        "    \n",
        "}\n",
        "\n",
        "mbti_percentage_population = {\"isfp\": 9,\n",
        "                     \"istp\": 5,\n",
        "                     \"infp\": 4,\n",
        "                     \"infj\": 2,\n",
        "                     \"intj\": 2,\n",
        "                     \"intp\": 3,\n",
        "                     \"entp\": 3,\n",
        "                     \"esfj\": 12,\n",
        "                     \"isfj\": 14,\n",
        "                     \"estj\": 9,\n",
        "                     \"estp\": 4,\n",
        "                     \"entj\": 2,\n",
        "                     \"enfj\": 3,\n",
        "                     \"esfp\": 9,\n",
        "                     \"enfp\": 8,\n",
        "                     \"istj\": 12\n",
        "}\n",
        "\n"
      ],
      "execution_count": null,
      "outputs": []
    },
    {
      "cell_type": "markdown",
      "metadata": {
        "id": "BkA7WHtlklz6"
      },
      "source": [
        "- We can print a dictionary in a very similar way to other variables like we saw earlier."
      ]
    },
    {
      "cell_type": "code",
      "metadata": {
        "id": "WkHRj-sTklz6"
      },
      "source": [
        "print(mbti_descriptions)"
      ],
      "execution_count": null,
      "outputs": []
    },
    {
      "cell_type": "markdown",
      "metadata": {
        "id": "JvQ_KFKRklz7"
      },
      "source": [
        "- You can do some interesting things with dictionaries, (we'll see more as time goes on)\n",
        "- For example you can print out different parts of the dictionary by adding in a key"
      ]
    },
    {
      "cell_type": "code",
      "metadata": {
        "id": "sUnQztrMklz7"
      },
      "source": [
        "print(mbti_descriptions[\"isfp\"])"
      ],
      "execution_count": null,
      "outputs": []
    },
    {
      "cell_type": "markdown",
      "metadata": {
        "id": "sdRGJZjWklz8"
      },
      "source": [
        "Try questions Q4-Q6 below and type \"Finished!\" in the chat when you are done.\n",
        "- **Q4** How can we print the ENTP's description?"
      ]
    },
    {
      "cell_type": "code",
      "metadata": {
        "id": "2ogxrD_Pklz9"
      },
      "source": [
        ""
      ],
      "execution_count": null,
      "outputs": []
    },
    {
      "cell_type": "markdown",
      "metadata": {
        "id": "fXmQ1yrXklz9"
      },
      "source": [
        "- **Q5** How can we print the ENTP's percent of the population?"
      ]
    },
    {
      "cell_type": "code",
      "metadata": {
        "id": "RrtUVQTbklz9"
      },
      "source": [
        ""
      ],
      "execution_count": null,
      "outputs": []
    },
    {
      "cell_type": "markdown",
      "metadata": {
        "id": "IZTi7HL-klz-"
      },
      "source": [
        "- **Q6** Print Joe's phone number"
      ]
    },
    {
      "cell_type": "code",
      "metadata": {
        "id": "Grb3bYatklz-"
      },
      "source": [
        ""
      ],
      "execution_count": null,
      "outputs": []
    },
    {
      "cell_type": "markdown",
      "metadata": {
        "id": "v_DPKm90klz-"
      },
      "source": [
        "### Doing Math\n",
        "\n",
        "As you'd expect with a programming language Python is pretty good at doing math. The basic operators you can use are as follows:\n",
        "\n",
        "    *  is for multiplication\n",
        "    +  is for addition\n",
        "    -  is the subtraction\n",
        "    %  is the remainder\n",
        "    /  is division\n",
        "\n",
        "Let's re-use our dictionary variable about the weather from earlier.\n",
        "\n",
        "- Let's find the total percentage of Sensors and Intuitives in the population\n",
        "- Another Python hint, if you need to go across multiple lines use \\ like in the following"
      ]
    },
    {
      "cell_type": "code",
      "metadata": {
        "id": "mBz7feHyklz_"
      },
      "source": [
        "intuitives = mbti_percentage_population[\"infp\"] + \\\n",
        "                    mbti_percentage_population[\"infj\"] + \\\n",
        "                    mbti_percentage_population[\"entj\"] + \\\n",
        "                    mbti_percentage_population[\"intj\"] + \\\n",
        "                    mbti_percentage_population[\"enfj\"] + \\\n",
        "                    mbti_percentage_population[\"enfp\"] + \\\n",
        "                    mbti_percentage_population[\"entp\"] + \\\n",
        "                    mbti_percentage_population[\"intp\"]\n",
        "\n",
        "print(\"intuitives:\")\n",
        "print(intuitives)\n",
        "\n",
        "sensors = 100 - intuitives\n",
        "\n",
        "print(\"sensors:\")\n",
        "print(sensors)"
      ],
      "execution_count": null,
      "outputs": []
    },
    {
      "cell_type": "markdown",
      "metadata": {
        "id": "nBqjhg3ikl0A"
      },
      "source": [
        "Try questions Q7 - Q10 and type \"Completed\" in the chat box when you are done.\n",
        "- **Q7** Can you calculate the percentage of the total Judgers (J) and Perceivers (P) of the population?"
      ]
    },
    {
      "cell_type": "code",
      "metadata": {
        "id": "NbT-9UVbkl0B"
      },
      "source": [
        "judgers = mbti_percentage_population[\"isfj\"] + \\\n",
        "                    mbti_percentage_population[\"infj\"] + \\\n",
        "                    mbti_percentage_population[\"entj\"] + \\\n",
        "                    mbti_percentage_population[\"intj\"] + \\\n",
        "                    mbti_percentage_population[\"enfj\"] + \\\n",
        "                    mbti_percentage_population[\"esfj\"] + \\\n",
        "                    mbti_percentage_population[\"estj\"] + \\\n",
        "                    mbti_percentage_population[\"istj\"]\n",
        "\n",
        "print(\"judgers:\")\n",
        "print(judgers)\n",
        "\n",
        "perceivers = 100 - ChangeMe\n",
        "\n",
        "print(\"ChangeMe:\")\n",
        "print(ChangeMe)"
      ],
      "execution_count": null,
      "outputs": []
    },
    {
      "cell_type": "markdown",
      "metadata": {
        "id": "CfDXnYm8kl0B"
      },
      "source": [
        "- **Q8** Can you print out the average percentage of an intuitive and sensor in general?"
      ]
    },
    {
      "cell_type": "code",
      "metadata": {
        "id": "-oYvfMlrkl0B"
      },
      "source": [
        "avgintuitive = intuitives / ChangeMe \n",
        "print(avgintuitive)"
      ],
      "execution_count": null,
      "outputs": []
    },
    {
      "cell_type": "markdown",
      "metadata": {
        "id": "zhlYgX3ukl0B"
      },
      "source": [
        "- **Q9** Can you print how many days you've been alive for (approximately) using the age variable?"
      ]
    },
    {
      "cell_type": "code",
      "metadata": {
        "id": "pvBB1Wiakl0B"
      },
      "source": [
        "age = \n",
        "print()"
      ],
      "execution_count": null,
      "outputs": []
    },
    {
      "cell_type": "markdown",
      "metadata": {
        "id": "nbyQDO6rkl0C"
      },
      "source": [
        "- **Q10** If you had 45 donuts and you were putting them in boxes that could hold 12 donuts, how many donuts would be in the last box?"
      ]
    },
    {
      "cell_type": "code",
      "metadata": {
        "id": "ER0GWqkpkl0C"
      },
      "source": [
        "lastbox = \n",
        "print(lastbox)"
      ],
      "execution_count": null,
      "outputs": []
    },
    {
      "cell_type": "markdown",
      "metadata": {
        "id": "ge3YZd2Mkl0D"
      },
      "source": [
        "### Loops\n",
        "\n",
        "- When we want to repeat the same thing over and over again we put it in something called a loop.\n",
        "- Python lets you do a lot with loops without typing in much text\n",
        "- Here crayon is a temporary variable that only exists in the loop\n",
        "- Let's return to our example from earlier"
      ]
    },
    {
      "cell_type": "code",
      "metadata": {
        "id": "jBezcPHekl0E"
      },
      "source": [
        "intuitives = [\"infp\", \"infj\", \"entj\", \"intj\", \"enfj\", \"enfp\", \"entp\", \"intp\"]\n",
        "\n",
        "for personality in intuitives:\n",
        "  print(personality)"
      ],
      "execution_count": null,
      "outputs": []
    },
    {
      "cell_type": "markdown",
      "metadata": {
        "id": "FJ3ezaa5kl0E"
      },
      "source": [
        "- The basic structure of a loop for us looks like the following"
      ]
    },
    {
      "cell_type": "markdown",
      "metadata": {
        "id": "hvSdsHlPkl0F"
      },
      "source": [
        "for loop_variable in list_variable:\n",
        "    # do this code"
      ]
    },
    {
      "cell_type": "markdown",
      "metadata": {
        "id": "EGCtBDmfkl0F"
      },
      "source": [
        "\n",
        "- loop_variable is a temporary variable that only exists in the loop. As soon as you finish the loop this goes away\n",
        "- list_variable is the variable you'd like to loop through. Often a list, but can be other things as we shall see\n",
        "\n",
        "### Counting with Loops\n",
        "\n",
        "Very often we use loops to count things. Each time through the loop we update a running value or we increment a counter. The following couple of cells illustrate this."
      ]
    },
    {
      "cell_type": "code",
      "metadata": {
        "id": "0AjNZihpkl0F"
      },
      "source": [
        "intuitives = [\"infp\", \"infj\", \"entj\", \"intj\", \"enfj\", \"enfp\", \"entp\", \"intp\"]\n",
        "\n",
        "total_intuitives = 0\n",
        "\n",
        "for personality in intuitives:\n",
        "    total_intuitives = total_intuitives + 1\n",
        "\n",
        "\n",
        "print(\"Total Intuitives: \", total_intuitives)"
      ],
      "execution_count": null,
      "outputs": []
    },
    {
      "cell_type": "markdown",
      "metadata": {
        "id": "6JIhZz9-kl0F"
      },
      "source": [
        "In the example below, line 6 is a bit different. It is a shorthand for line 6 in the cell above. Does it make sense to you?"
      ]
    },
    {
      "cell_type": "code",
      "metadata": {
        "id": "_ObUYsF2kl0G"
      },
      "source": [
        "intuitives = [\"infp\", \"infj\", \"entj\", \"intj\", \"enfj\", \"enfp\", \"entp\", \"intp\"]\n",
        "\n",
        "total_intuitives = 0\n",
        "\n",
        "for personality in intuitives:\n",
        "    total_intuitives += 1\n",
        "\n",
        "\n",
        "print(\"Total Intuitives: \", total_intuitives)"
      ],
      "execution_count": null,
      "outputs": []
    },
    {
      "cell_type": "markdown",
      "metadata": {
        "id": "z5va4FMRkl0H"
      },
      "source": [
        "Try questions Q11 - Q13 and type \"All done\" into the chat box\n",
        "\n",
        "- **Q11** Can you write a loop to print all of the numbers in the list numbers?"
      ]
    },
    {
      "cell_type": "code",
      "metadata": {
        "id": "_ESfSpm9kl0H"
      },
      "source": [
        "numbers = [1,2,3,4,5]\n",
        "\n",
        "for digit :"
      ],
      "execution_count": null,
      "outputs": []
    },
    {
      "cell_type": "markdown",
      "metadata": {
        "id": "MlccmOojkl0I"
      },
      "source": [
        "- **Q12** Can you make a loop that prints all of the letters in your name?"
      ]
    },
    {
      "cell_type": "code",
      "metadata": {
        "id": "vY69mlO4kl0I"
      },
      "source": [
        "user_name = \"\"\n",
        "for in user_name:\n",
        "    "
      ],
      "execution_count": null,
      "outputs": []
    },
    {
      "cell_type": "markdown",
      "metadata": {
        "id": "UPWnsXDjkl0I"
      },
      "source": [
        "- **Q13** Can you write a loop that counts the number of letter in the string variable alphabet and print that to the screen?"
      ]
    },
    {
      "cell_type": "code",
      "metadata": {
        "id": "Sm3o0uYFkl0J"
      },
      "source": [
        "alphabet = \"abcdefghijklmnopqrstuvwxyz\"\n",
        "\n",
        "letter_count = 0\n",
        "\n",
        "for letter in :\n",
        "    \n",
        "print(\"Total letters: \", letter_count)"
      ],
      "execution_count": null,
      "outputs": []
    },
    {
      "cell_type": "markdown",
      "metadata": {
        "id": "1LsDsZAzkl0K"
      },
      "source": [
        "### Dictionaries and Loops\n",
        "\n",
        "- Watch what happens when we try to do a loop through a dictionary"
      ]
    },
    {
      "cell_type": "code",
      "metadata": {
        "id": "h7ghcaBykl0K"
      },
      "source": [
        "for personality in mbti_percentage_population:\n",
        "    print(personality)"
      ],
      "execution_count": null,
      "outputs": []
    },
    {
      "cell_type": "markdown",
      "metadata": {
        "id": "XUsTe7uskl0K"
      },
      "source": [
        "- Since dictionaries are more complex, there are many ways to interact with them\n",
        "- We add .values() to get the values of the dictionary\n",
        "- We add .keys() to get the keys of the dictionary"
      ]
    },
    {
      "cell_type": "code",
      "metadata": {
        "id": "fT7hHLdTkl0L"
      },
      "source": [
        "#print all the items in our Dictionary\n",
        "\n",
        "for percentage in mbti_percentage_population.values():\n",
        "    print(percentage)"
      ],
      "execution_count": null,
      "outputs": []
    },
    {
      "cell_type": "code",
      "metadata": {
        "id": "wyOZxFBqkl0L"
      },
      "source": [
        "# print out the keys in our Dictionary\n",
        "\n",
        "for name in mbti_percentage_population.keys():\n",
        "    print(name)"
      ],
      "execution_count": null,
      "outputs": []
    },
    {
      "cell_type": "markdown",
      "metadata": {
        "id": "OS5KGaz4kl0L"
      },
      "source": [
        "__________________________________________________________________\n",
        "\n",
        "## Conditionals\n",
        "\n",
        "- When we want to run a piece of code only if something is true\n",
        "- We can compare with the following:\n",
        "\n",
        "        ==\n",
        "        >=\n",
        "        <=\n",
        "        <\n",
        "        >\n",
        "        !=\n",
        "        \n",
        "- When we just want to check one thing and if so run code1:\n",
        "        if condition:\n",
        "         code1\n",
        "- When we want to check something and do code1 or code2 if it is not so\n",
        "        if condition:\n",
        "            code1\n",
        "        else:\n",
        "            code2\n",
        "\n",
        "- Let's pretend that anything over 10 degrees is hot. Let' make a conditional that prints out if it is hot on **Wednesday**"
      ]
    },
    {
      "cell_type": "code",
      "metadata": {
        "id": "ZulJRjbckl0M"
      },
      "source": [
        "if toronto_weather[\"Wednesday\"] > 10:\n",
        "    print(\"Hot out today\")"
      ],
      "execution_count": null,
      "outputs": []
    },
    {
      "cell_type": "markdown",
      "metadata": {
        "id": "0dCiwAOTkl0M"
      },
      "source": [
        "Try questions Q14-Q15 and type \"check\" into the chat box when you are done\n",
        "\n",
        "- **Q14** Can you complete the following to make it print out \"It is cold\" when it is less then 10 degrees?"
      ]
    },
    {
      "cell_type": "code",
      "metadata": {
        "id": "seqkuri4kl0M"
      },
      "source": [
        "if toronto_weather[\"Sunday\"] 10:\n",
        "    print(\"It is cold\")"
      ],
      "execution_count": null,
      "outputs": []
    },
    {
      "cell_type": "markdown",
      "metadata": {
        "id": "pC6a0IFqkl0M"
      },
      "source": [
        "- **Q15** Can you write a loop that goes through all of the days of the week and prints 'Hot out Today' if the tempurature is above 10, and 'It is cold' if it is below or equal to 10 degrees?"
      ]
    },
    {
      "cell_type": "code",
      "metadata": {
        "id": "W_gj-lxHkl0N"
      },
      "source": [
        "for temp in toronto_weather.values():\n",
        "    \n",
        "    if temp 10:\n",
        "        print(\"\")\n",
        "    else:\n",
        "        print(\"\")"
      ],
      "execution_count": null,
      "outputs": []
    },
    {
      "cell_type": "markdown",
      "metadata": {
        "id": "NqehHUaSkl0N"
      },
      "source": [
        "## Combining with boolean\n",
        "\n",
        "- Sometimes we want to combine conditionals because we want to test more complicated things\n",
        "- We can do this with the following:\n",
        "    - and\n",
        "    - or\n",
        "    - not\n",
        "- Here's a quick game that demonstrates this\n",
        "- It will ask you to put a value in between 1 and 10\n",
        "- If you don't, it will let you know"
      ]
    },
    {
      "cell_type": "code",
      "metadata": {
        "id": "4QN5YACfkl0N"
      },
      "source": [
        "#we can turn a variable into a integer with the int() function\n",
        "number = int(input(\"Pick any number between 1 - 10: \"))\n",
        "\n",
        "if number > 10 or number < 1:\n",
        "    print(\"Sorry you didn't pick a number between 1 - 10\")\n",
        "else:\n",
        "    print(\"Your number is between 1 and 10!\")"
      ],
      "execution_count": null,
      "outputs": []
    },
    {
      "cell_type": "markdown",
      "metadata": {
        "id": "nT5qiNId585p"
      },
      "source": [
        "Another example: some questions from the mbti quiz"
      ]
    },
    {
      "cell_type": "code",
      "metadata": {
        "id": "QlJA3EaTod4K"
      },
      "source": [
        "Question_1 = input(\"Type a, b, or c, to answer the following question: I try not to draw attention to myself. a-strongly agree, b-neutral, c-strongly disagree\")\n",
        "\n",
        "a1 = \"that means you're either an istp, infp, intp, or isfp!\"\n",
        "b1 = \"that means you're either an isfj, infj, istj, or intj!\"\n",
        "c1 = \"that means you're either an estj, entj, estp, esfj, esfp, or entp!\"\n",
        "\n",
        "if Question_1 == \"a\":\n",
        "  print(\"Question 1: Because you chose a,\")\n",
        "  print(a1)\n",
        "if Question_1 == \"b\":\n",
        "  print(\"Question 1: Because you chose b,\")\n",
        "  print(b1)\n",
        "if Question_1 == \"c\":\n",
        "  print(\"Question 1: Because you chose c,\")\n",
        "  print(c1)\n",
        "\n",
        "Question_2 = input(\"Type a, b, or c, to answer the following question: I have a vivid imagination. a-strongly agree, b-neutral, c-strongly disagree\")\n",
        "\n",
        "a2 = \"that means you're either an infp, intp, infj, intj, entj, enfj, enfp, or entp!\"\n",
        "b2 = \"that means you're either an isfp, istp, esfj, or estj\"\n",
        "c2 = \"that means you're either an estp, esfp, istj, or isfj!\"\n",
        "\n",
        "if Question_2 == \"a\":\n",
        "  print(\"Question 2: Because you chose a,\")\n",
        "  print(a2)\n",
        "if Question_2 == \"b\":\n",
        "  print(\"Question_2: Because you chose b,\")\n",
        "  print(b2)\n",
        "if Question_2 == \"c\":\n",
        "  print(\"Question_2: Because you chose c,\")\n",
        "  print(c2)\n",
        "\n",
        "if Question_1 == \"a\" and Question_2 == \"a\":\n",
        "  print(\"Because you answered 'a' for questions 1 and 2,\")\n",
        "  print(\"you're either an infp or intp!\")\n",
        "else:\n",
        "    print(\"but you're definitely neither an infp nor an intp!\")"
      ],
      "execution_count": null,
      "outputs": []
    },
    {
      "cell_type": "markdown",
      "metadata": {
        "id": "pgmzc9a0kl0N"
      },
      "source": [
        "Try questions Q16, type \"all done\" when completed.\n",
        "\n",
        "- **Q16** Can you re-write the conditional from the game above to use an `and` to do the same thing? you'll need to use some operators from the Conditionals section above. HINT It will be easier if you use <= and >= "
      ]
    },
    {
      "cell_type": "code",
      "metadata": {
        "id": "6EFIt0JXkl0T"
      },
      "source": [
        "#we can turn a variable into a integer with the int() function\n",
        "#as with most programming tasks there are more then 1 way to accomplish something\n",
        "number = int(input(\"Pick any number between 1 - 10: \"))\n",
        "\n",
        "if number and number :\n",
        "    print(\"Your number is between 1 and 10!\")\n",
        "else:\n",
        "    print(\"Sorry you didn't pick a number between 1-10\")"
      ],
      "execution_count": null,
      "outputs": []
    },
    {
      "cell_type": "markdown",
      "metadata": {
        "id": "VAtKxIk99xGC"
      },
      "source": [
        "**Q17** Can you finish the rest of the mini mbti questionaire to get anyone's personality? "
      ]
    },
    {
      "cell_type": "code",
      "metadata": {
        "id": "AbShOBAI-Q2w"
      },
      "source": [
        "Question_1 = input(\"Type a, b, or c, to answer the following question: I try not to draw attention to myself. a-strongly agree, b-neutral, c-strongly disagree\")\n",
        "\n",
        "a1 = \"that means you're either an istp, infp, intp, or isfp!\"\n",
        "b1 = \"that means you're either an isfj, infj, istj, or intj!\"\n",
        "c1 = \"that means you're either an estj, entj, estp, esfj, enfj, enfp, esfp, or entp!\"\n",
        "\n",
        "if Question_1 == \"a\":\n",
        "  print(\"Question 1: Because you chose a,\")\n",
        "  print(a1)\n",
        "if Question_1 == \"b\":\n",
        "  print(\"Question 1: Because you chose b,\")\n",
        "  print(b1)\n",
        "if Question_1 == \"c\":\n",
        "  print(\"Question 1: Because you chose c,\")\n",
        "  print(c1)\n",
        "\n",
        "Question_2 = input(\"Type a, b, or c, to answer the following question: I have a vivid imagination. a-strongly agree, b-neutral, c-strongly disagree\")\n",
        "\n",
        "a2 = \"that means you're either an infp, intp, infj, intj, entj, enfj, enfp, or entp!\"\n",
        "b2 = \"that means you're either an isfp, istp, esfj, or estj\"\n",
        "c2 = \"that means you're either an estp, esfp, istj, or isfj!\"\n",
        "\n",
        "if Question_2 == \"a\":\n",
        "  print(\"Question 2: Because you chose a,\")\n",
        "  print(a2)\n",
        "if Question_2 == \"b\":\n",
        "  print(\"Question_2: Because you chose b,\")\n",
        "  print(b2)\n",
        "if Question_2 == \"c\":\n",
        "  print(\"Question_2: Because you chose c,\")\n",
        "  print(c2)\n",
        "\n",
        "if Question_1 == \"a\" and Question_2 == \"a\":\n",
        "  print(\"Because you answered 'a' for questions 1 and 2,\")\n",
        "  print(\"you're either an infp or intp!\")\n",
        "if Question_1 == \"a\" and Question_2 == \"b\":\n",
        "  print(\"Because you answered 'a' for Q1 and 'b' for Q2,\")\n",
        "  print(\"you're either an isfp or an istp!\")\n",
        "# There aren't any possibilities for Q1 = a and Q2 = c in this mini test \n",
        "# There aren't any possibilities for Q1 = b and Q2 = b in this mini test\n",
        "if Question_1 == \"b\" and Question_2 == \"a\":\n",
        "  print(\"Because you answered 'b' for Q1 and 'a' for Q2,\")\n",
        "  print(\"you're either an infj or intj!\")\n",
        "if Question_1 == \"b\" and Question_2 == \"c\":\n",
        "  print(\"Because you answered 'b' for Q1 and 'c' for Q2,\")\n",
        "  print(\"you're either an isfj or istj!\")\n",
        "if Question_1 == \"c\" and Question_2 == \"a\":\n",
        "  print(\"Because you answered 'c' for Q1 and 'a' for Q2,\")\n",
        "  print(\"you're either an entj, enfj, enfp, or an entp!\")\n",
        "if Question_1 == \"c\" and Question_2 == \"b\":\n",
        "  print(\"Because you answered 'c' for Q1 and 'b' for Q2,\")\n",
        "  print(\"you're either an esfj or estj!\")\n",
        "if Question_1 == \"c\" and Question_2 == \"c\":\n",
        "  print(\"Because you answered 'c' for Q1 and 'c' for Q2,\")\n",
        "  print(\"you're either an esfp or estp!\")"
      ],
      "execution_count": null,
      "outputs": []
    },
    {
      "cell_type": "markdown",
      "metadata": {
        "id": "mk9ksW8qkl0U"
      },
      "source": [
        "## Functions\n",
        "\n",
        "- Functions are bits of code that do a certain task in a certain way\n",
        "- We saw this earlier with the print() function\n",
        "- We also just used the int() function in our game\n",
        "- some functions need arguments or paramaters. We pass those in the the round brackets. EG. we pass what string variable we want turned into an integer with the int() function.\n",
        "- we can create our own functions too"
      ]
    },
    {
      "cell_type": "code",
      "metadata": {
        "id": "b3mkqVg7kl0U"
      },
      "source": [
        "print(\"hello world\")\n",
        "int(number)"
      ],
      "execution_count": null,
      "outputs": []
    },
    {
      "cell_type": "markdown",
      "metadata": {
        "id": "ISplW6wmkl0U"
      },
      "source": [
        "- A useful function is len() which tells you how long something is\n",
        "- Let's print how long our user_name is\n",
        "- Often a function can be applied to different types of variables and the results are as you expect"
      ]
    },
    {
      "cell_type": "code",
      "metadata": {
        "id": "Ya8f34EOkl0U"
      },
      "source": [
        "len(user_name)"
      ],
      "execution_count": null,
      "outputs": []
    },
    {
      "cell_type": "markdown",
      "metadata": {
        "id": "eb0hXMiEkl0V"
      },
      "source": [
        "- **Q18** What would the following snippet print on the screen? (Try to figure it out before running it, put your answer in the chat)"
      ]
    },
    {
      "cell_type": "code",
      "metadata": {
        "id": "dvbUNxLpkl0V"
      },
      "source": [
        "len(toronto_weather)"
      ],
      "execution_count": null,
      "outputs": []
    },
    {
      "cell_type": "markdown",
      "metadata": {
        "id": "1YFy9Zbakl0V"
      },
      "source": [
        "The structure of a function looks like the following:\n",
        "\n",
        "def name_of_function(arguments)\n",
        "    #code\n",
        "    #code\n",
        "    return answer #not mandtory\n",
        "When our function produces a value that we use later we make use of return. That will pass the variable back to the place that called it.\n",
        "\n",
        "We've already seen how we call a functon:\n",
        "\n",
        "name_of_function(arguments)\n",
        "If you would like to print out the results of your function you need to surround it with the print function\n",
        "\n",
        "print(name_of_function(arguments))\n",
        "First let's reload our Toronto Weather Data"
      ]
    },
    {
      "cell_type": "code",
      "metadata": {
        "id": "C6kg9yvokl0V"
      },
      "source": [
        "toronto_weather = {\n",
        "    \"Monday\": 10,\n",
        "    \"Tuesday\" : 12,\n",
        "    \"Wednesday\" : 15,\n",
        "    \"Thursday\" : 10,\n",
        "    \"Friday\" : 9,\n",
        "    \"Saturday\" : 6,\n",
        "    \"Sunday\" : 6\n",
        "    }"
      ],
      "execution_count": null,
      "outputs": []
    },
    {
      "cell_type": "markdown",
      "metadata": {
        "id": "fEOva9FDkl0W"
      },
      "source": [
        "- The function below will change the temp to F from C\n",
        "- Statements can get pretty long if you call lots of functions in them\n",
        "- Here we find Monday's temp in F and print it"
      ]
    },
    {
      "cell_type": "code",
      "metadata": {
        "id": "qVXGzZRukl0W"
      },
      "source": [
        "def temp_to_f(celc):\n",
        "    return celc * 9/5 + 32\n",
        "\n",
        "print(temp_to_f(toronto_weather[\"Monday\"]))"
      ],
      "execution_count": null,
      "outputs": []
    },
    {
      "cell_type": "markdown",
      "metadata": {
        "id": "gGvIAkNFkl0W"
      },
      "source": [
        "Try questions Q19 - Q22. Type \"I'm finally finished!\" into the chat when you are done\n",
        "\n",
        "- **Q19** Can you write a function that finds the average temperature for the week? You just need to modify line 10."
      ]
    },
    {
      "cell_type": "code",
      "metadata": {
        "id": "xFawmkRgkl0W"
      },
      "source": [
        "def week_avg_c(toronto_weather):\n",
        "    \n",
        "     total_degrees = 0\n",
        "        \n",
        "    for day in toronto_weather.values():\n",
        "        total_degrees = total_degrees + day\n",
        "    \n",
        "    #total_degrees has the sum of all 7 days of temp readings\n",
        "    #you just need to modify the next line: \n",
        "    return total_degrees\n",
        "\n",
        "print(week_avg_c(toronto_weather))"
      ],
      "execution_count": null,
      "outputs": []
    },
    {
      "cell_type": "markdown",
      "metadata": {
        "id": "5N_EAR6Kkl0W"
      },
      "source": [
        "- **Q20** Can you write a function that finds the average temp for the week but in F? You just need to modify line 5."
      ]
    },
    {
      "cell_type": "code",
      "metadata": {
        "id": "ZcIHp8gHkl0X"
      },
      "source": [
        "def week_avg_f(toronto_weather):\n",
        "    \n",
        "    #You just need to add one thing to the line below\n",
        "    #HINT: It is something we've seen already\n",
        "    avg_temp_f = week_avg_c(toronto_weather)\n",
        "    return avg_temp_f\n",
        "\n",
        "\n",
        "print(week_avg_f(toronto_weather))"
      ],
      "execution_count": null,
      "outputs": []
    },
    {
      "cell_type": "markdown",
      "metadata": {
        "id": "84uZUwY9kl0a"
      },
      "source": [
        "## Congrats!\n",
        "\n",
        "You now know the basics of Python. \n"
      ]
    },
    {
      "cell_type": "code",
      "metadata": {
        "id": "A7a4qwSmkl0a"
      },
      "source": [
        ""
      ],
      "execution_count": null,
      "outputs": []
    }
  ]
}
