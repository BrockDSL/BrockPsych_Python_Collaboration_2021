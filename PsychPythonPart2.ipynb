{
  "nbformat": 4,
  "nbformat_minor": 0,
  "metadata": {
    "kernelspec": {
      "display_name": "Python 3",
      "language": "python",
      "name": "python3"
    },
    "language_info": {
      "codemirror_mode": {
        "name": "ipython",
        "version": 3
      },
      "file_extension": ".py",
      "mimetype": "text/x-python",
      "name": "python",
      "nbconvert_exporter": "python",
      "pygments_lexer": "ipython3",
      "version": "3.7.3"
    },
    "colab": {
      "name": "PsychPythonPart2.ipynb",
      "provenance": [],
      "collapsed_sections": []
    }
  },
  "cells": [
    {
      "cell_type": "markdown",
      "metadata": {
        "id": "moXDI5vpjFFS"
      },
      "source": [
        "![DSL_logo](https://github.com/BrockDSL/Intro_to_Python_Workshop/blob/master/dsl_logo.png?raw=1) \n",
        "\n",
        "![PythonPsycology](http://www.pygaze.org/wp-content/uploads/2016/10/Dalmaijer_2016_PEP-1024x356.jpg) \n",
        "\n",
        "# Data Science with Python!\n",
        "\n",
        "Welcome Brock Psychology Society to the Digital Scholarship Lab Level 2 Python workshop. In yesterday's Python workshoop, we covered the following:\n",
        "\n",
        "- variables\n",
        "- math\n",
        "- conditional\n",
        "- loops\n",
        "- functions\n",
        "\n",
        "\n",
        "What we'll learn today is:\n",
        "- importing Pandas and Numpy libraries\n",
        "- analyzing data with Pandas, MatPlotlib, and Seaborn\n",
        "\n",
        "\n",
        "We'll be using Python as a Data Analysis tool"
      ]
    },
    {
      "cell_type": "markdown",
      "metadata": {
        "id": "76RMsBTUjFFX"
      },
      "source": [
        "Before we get going the next cell should look totally familar to you"
      ]
    },
    {
      "cell_type": "code",
      "metadata": {
        "id": "h3niTa7ojFFY"
      },
      "source": [
        "scores = [3,5,6,2,1,6]\n",
        "\n",
        "def find_mean(scores):\n",
        "    \n",
        "    sum = 0\n",
        "    for s in scores:\n",
        "        sum = sum + s\n",
        "        \n",
        "    return sum/len(scores)\n",
        "\n",
        "\n",
        "print(find_mean(scores))"
      ],
      "execution_count": null,
      "outputs": []
    },
    {
      "cell_type": "markdown",
      "metadata": {
        "id": "wntggUKkjFFZ"
      },
      "source": [
        "----\n",
        "\n",
        "## Importing Libraries\n",
        "\n",
        "- Our end goal is to re-use as much code as possible\n",
        "- To do this we load in different Libraries using the `import` command\n",
        "- For this example we want to load in the [statistics](https://docs.python.org/3/library/statistics.html) library"
      ]
    },
    {
      "cell_type": "code",
      "metadata": {
        "id": "Q41-2u7VjFFa"
      },
      "source": [
        "import statistics\n",
        "\n",
        "print(statistics.mean(scores))\n",
        "print(statistics.median(scores))\n",
        "print(statistics.mode(scores))"
      ],
      "execution_count": null,
      "outputs": []
    },
    {
      "cell_type": "markdown",
      "metadata": {
        "id": "kqrbNZv3jFFa"
      },
      "source": [
        "- Try Q1 - Q2 below and type \"Got it\" in the chat when you are done."
      ]
    },
    {
      "cell_type": "markdown",
      "metadata": {
        "id": "M7io_bO3jFFb"
      },
      "source": [
        "- **Q1** We can use the [math](https://docs.python.org/3/library/math.html) library to do interesting calculations, but we need to import it first. Eg. the function used to find the square root of a number is called `math.sqrt()` Modify the following code to print out the square root of the variable `number`."
      ]
    },
    {
      "cell_type": "code",
      "metadata": {
        "id": "LQ5mHwrxjFFc"
      },
      "source": [
        "import math\n",
        "\n",
        "number = 81\n",
        "\n",
        "print(number)"
      ],
      "execution_count": null,
      "outputs": []
    },
    {
      "cell_type": "markdown",
      "metadata": {
        "id": "IznlNFUpjFFd"
      },
      "source": [
        "The `str` library is so important that it is included all the time Python runs.\n",
        "\n",
        "- **Q2**  Play around with printing the contents of the variable `all_caps` using different capitalization commands, as described in the cell's comments. (Details on the [str](https://docs.python.org/3/library/string.html) library, if your interested)"
      ]
    },
    {
      "cell_type": "code",
      "metadata": {
        "id": "dKwID29ojFFd"
      },
      "source": [
        "all_caps = \"HELLO PYTHON USER\"\n",
        "\n",
        "# add .lower() to the following line so that the variable represented by all_caps prints in all lowercase\n",
        "print(all_caps)\n",
        "# add .title() to the following line to capitalize the first letter of each word, and the rest lowercase\n",
        "print(all_caps)\n",
        "# add .capitalize() to the following line to capitalize only the first letter of the sentence, and the rest lowercase\n",
        "print(all_caps)"
      ],
      "execution_count": null,
      "outputs": []
    },
    {
      "cell_type": "markdown",
      "metadata": {
        "id": "BQjfAUi4jFFe"
      },
      "source": [
        "# EXERCISE: Analyzing scores from a Big 5 Personality Dataset\n",
        "\n",
        "We'll be focusing on data analysis for the rest of this workshop so let's import some libraries: [pandas](https://pandas.pydata.org/) and [numpy](https://pythonistaplanet.com/numpy/)\n",
        "\n",
        "We will be analyzing a dataset composed of about 315 scores of the Big 5 Personality test.\n",
        "\n",
        "You could use Excel to do some of this analysis true, but if you have a large dataset, using Excel is going to be difficult to work with."
      ]
    },
    {
      "cell_type": "markdown",
      "metadata": {
        "id": "nYzTR8BRjFFf"
      },
      "source": [
        "![excel preview](https://raw.githubusercontent.com/BrockDSL/BrockPsych_Python_Collaboration_2021/master/psycscreenshot.PNG) \n",
        "\n",
        "\n",
        "There are 315 rows of big 5 personality score data - this is just a sample view\n",
        "\n",
        "The personality dataset has 8 columns \n",
        "\n",
        "-Gender\t\n",
        
        "-Age\t\n",
        "-Openness\t\n",
        "-Neuroticism\t\n",
        "-Conscientiousness\t\n",
        "-Agreeableness\t\n",
        "-Extraversion\t\n",
        "-Personality\n",
        "\n",
        "The rows represent different people who took the big 5 test\n",
        "\n",
        "The personality column is the one we are interested in, and we want to analyze the data to see how the other columns (I.e. personality traits) are affecting the overall personality.  "
      ]
    },
    {
      "cell_type": "markdown",
      "metadata": {
        "id": "rKnpgg1XjFFg"
      },
      "source": [
        "## Loading the Python Libraries\n",
        "\n",
        "To get Python and the notebook ready we need to load the following cell\n",
        "\n",
        "Numpy is a library that allows you to:\n",
        "\n",
        "    - Use mathematical operations on matrices (lists, as we saw yesterday)\n",
        "\n",
        "Pandas is a library used with numpy that allows you to:\n",
        "\n",
        "    - Create Dataframes: a data structure consisting of rows and columns\n",
        "    - Assign functions and other analytical operations to that dataframe"
      ]
    },
    {
      "cell_type": "code",
      "metadata": {
        "id": "VLtAT-6tjFFg"
      },
      "source": [
        "#Load the Library Pandas, that works with data\n",
        "import pandas as pd\n",
        "\n",
        "#Load the Library Numpy, that works with numerical calculations\n",
        "import numpy as np\n",
        "\n",
        "#These two libraries are often used together!"
      ],
      "execution_count": null,
      "outputs": []
    },
    {
      "cell_type": "code",
      "metadata": {
        "id": "img2Zvlvj78K"
      },
      "source": [
        "#Load the uploaded file into a dataframe\n",
        "df = pd.read_csv(\"https://brockdsl.github.io/BrockPsych_Python_Collaboration_2021/psyc.csv\")\n",
        "\n",
        "#List the column names so we can use them as variables \n",
        "df.columns = [\"gender\",\"age\",\"openness\",\"neuroticism\",\"conscientiousness\",\"agreeableness\",\"extraversion\",\"Personality\"] \n",
        "\n",
        "df.columns = data.columns.str.title()\n",
        "\n",
        "df.head(10)"
      ],
      "execution_count": null,
      "outputs": []
    },
    {
      "cell_type": "markdown",
      "metadata": {
        "id": "9I66ouinjFFh"
      },
      "source": [
        "Pandas can provide us some nice quantitative details about our data by calling the `describe()` function"
      ]
    },
    {
      "cell_type": "code",
      "metadata": {
        "id": "J1vs5wdCjFFh"
      },
      "source": [
        "data.describe()"
      ],
      "execution_count": null,
      "outputs": []
    },
    {
      "cell_type": "markdown",
      "metadata": {
        "id": "dgagWS7ajFFi"
      },
      "source": [
        "## Grouping and  Counting\n",
        "\n",
        "- We also need to gather the entries we need by grouping them together with the `.groupby()` function. We can chain these things together to ask very specific questions of the data.\n",
        "- We pass what column we'd like to group the data by\n",
        "- We add `.count()` if we are just interested int the counts and not the dataframe"
      ]
    },
    {
      "cell_type": "markdown",
      "metadata": {
        "id": "d1WCde5OjFFi"
      },
      "source": [
        "Group the red wine samples by the ranking numbers that were assigned during the wine testing study"
      ]
    },
    {
      "cell_type": "code",
      "metadata": {
        "id": "LZ8CRFMujFFi"
      },
      "source": [
        "data.groupby('Personality')"
      ],
      "execution_count": null,
      "outputs": []
    },
    {
      "cell_type": "code",
      "metadata": {
        "id": "m3d6cUXvjFFi"
      },
      "source": [
        "data.groupby(\"Personality\").count()"
      ],
      "execution_count": null,
      "outputs": []
    },
    {
      "cell_type": "markdown",
      "metadata": {
        "id": "wf8WzsNFjFFj"
      },
      "source": [
        "Try questions Q4 & Q5 below and type \"Finished!\" in the chat box when you are done"
      ]
    },
    {
      "cell_type": "markdown",
      "metadata": {
        "id": "shX_pxWMjFFj"
      },
      "source": [
        "**Q4** How many people are female in this dataset?"
      ]
    },
    {
      "cell_type": "code",
      "metadata": {
        "id": "kbIQg4NujFFj"
      },
      "source": [
        ""
      ],
      "execution_count": null,
      "outputs": []
    },
    {
      "cell_type": "markdown",
      "metadata": {
        "id": "j5XwxI3djFFj"
      },
      "source": [
        "**Q5** How many different ages are there in the dataset?"
      ]
    },
    {
      "cell_type": "code",
      "metadata": {
        "id": "3CCkchXBjFFk"
      },
      "source": [
        ""
      ],
      "execution_count": null,
      "outputs": []
    },
    {
      "cell_type": "markdown",
      "metadata": {
        "id": "7XqKWfs7jFFk"
      },
      "source": [
        "## Grouping and applying functions\n",
        "\n",
        "- If we want to do some math on the data we need to cluster it together a bit. We use `.groupby()` and then apply our mathematical functions to the result\n",
        "- Here we'll use the following 3 functions:\n",
        " - `mean()` finds the arithmetic mean of the data\n",
        " - `max()` finds the largest occurence of data in that column\n",
        " - `min()` finds the smallest occurennce of data in that column"
      ]
    },
    {
      "cell_type": "markdown",
      "metadata": {
        "id": "CTBKv79ljFFk"
      },
      "source": [
        "What is the average extroversion score of people with a personality label of 'extroverted'?"
      ]
    },
    {
      "cell_type": "code",
      "metadata": {
        "id": "Enb4XcCujFFk"
      },
      "source": [
        "data.groupby(\"Personality\")[\"Extraversion\"].mean()"
      ],
      "execution_count": null,
      "outputs": []
    },
    {
      "cell_type": "markdown",
      "metadata": {
        "id": "7s7Odw5XjFFk"
      },
      "source": [
        "Try questions Q6-Q8 and type \"All done\" into the chat when you are finished\""
      ]
    },
    {
      "cell_type": "markdown",
      "metadata": {
        "id": "XtT2mUDFjFFl"
      },
      "source": [
        "- **Q6** What is the average Age of people of each `Neuroticism` score?"
      ]
    },
    {
      "cell_type": "code",
      "metadata": {
        "id": "5Qp4Y9HzjFFl"
      },
      "source": [
        ""
      ],
      "execution_count": null,
      "outputs": []
    },
    {
      "cell_type": "markdown",
      "metadata": {
        "id": "fo0VI4PFjFFl"
      },
      "source": [
        "- **Q7** What is the minimum and maximum Age seen in the data"
      ]
    },
    {
      "cell_type": "code",
      "metadata": {
        "id": "gmlNsc4TjFFl"
      },
      "source": [
        ""
      ],
      "execution_count": null,
      "outputs": []
    },
    {
      "cell_type": "markdown",
      "metadata": {
        "id": "-a1AECerjFFl"
      },
      "source": [
        "- **Q8** What is the minimum and maximum Conscientiousness score seen for each personality?"
      ]
    },
    {
      "cell_type": "code",
      "metadata": {
        "id": "YJ2E-4PvjFFm"
      },
      "source": [
        ""
      ],
      "execution_count": null,
      "outputs": []
    },
    {
      "cell_type": "markdown",
      "metadata": {
        "id": "c2vnC-WqjFFm"
      },
      "source": [
        "# Sorting & Multi line commands "
      ]
    },
    {
      "cell_type": "markdown",
      "metadata": {
        "id": "sHdPKw4ajFFm"
      },
      "source": [
        "- We can apply sorting to our dataframe actions by using the funciton `.sort_values()` \n",
        "\n",
        "- We need to give what column we'd like to sort it with `by =` \n",
        "\n",
        "- We also need to tell it to display it in an increase way `ascending = False` "
      ]
    },
    {
      "cell_type": "markdown",
      "metadata": {
        "id": "L4pZsaYDjFFm"
      },
      "source": [
        "What Agreeableness score has the most people assigned to it? Here we do it in two steps "
      ]
    },
    {
      "cell_type": "code",
      "metadata": {
        "id": "aah6xcxTjFFm"
      },
      "source": [
        "by_Agreeableness = data.groupby(\"Agreeableness\").count() \n",
        "\n",
        "sorted_Agreeableness = by_Agreeableness.sort_values(by = \"Personality\",ascending = False) \n",
        "\n",
        "sorted_Agreeableness"
      ],
      "execution_count": null,
      "outputs": []
    },
    {
      "cell_type": "markdown",
      "metadata": {
        "id": "utSi0hH4jFFm"
      },
      "source": [
        "We could also do it in one step: "
      ]
    },
    {
      "cell_type": "code",
      "metadata": {
        "id": "Fp3z-pIbjFFn"
      },
      "source": [
        "data.groupby(\"Agreeableness\").count().sort_values(by = \"Personality\",ascending = False) "
      ],
      "execution_count": null,
      "outputs": []
    },
    {
      "cell_type": "markdown",
      "metadata": {
        "id": "5ie9AkQcjFFn"
      },
      "source": [
        "## Unique entries & values counts \n",
        "\n",
        "- Here we use `.unique()` to only give the first instances of the item. Results are returned as a list, which is useful for us later \n",
        "\n",
        "- This is useful for seeing how many values are in a categorical column "
      ]
    },
    {
      "cell_type": "code",
      "metadata": {
        "id": "vfqyAzuajFFn"
      },
      "source": [
        "data[\"Openness\"].unique() "
      ],
      "execution_count": null,
      "outputs": []
    },
    {
      "cell_type": "markdown",
      "metadata": {
        "id": "ETm6OPfojFFn"
      },
      "source": [
        "What are unique values for the Chlorides field? "
      ]
    },
    {
      "cell_type": "code",
      "metadata": {
        "id": "CJautzMAjFFn"
      },
      "source": [
        "data[\"Age\"].unique() "
      ],
      "execution_count": null,
      "outputs": []
    },
    {
      "cell_type": "markdown",
      "metadata": {
        "id": "7SKDo1wojFFo"
      },
      "source": [
        "- To get total number of unique values and frequency in the data we use `value_counts()'  "
      ]
    },
    {
      "cell_type": "code",
      "metadata": {
        "id": "VT8O9ltGjFFo"
      },
      "source": [
        "data[\"Age\"].value_counts() "
      ],
      "execution_count": null,
      "outputs": []
    },
    {
      "cell_type": "markdown",
      "metadata": {
        "id": "fza3PVHcjFFo"
      },
      "source": [
        "## Selecting subsets of data \n",
        "\n",
        "- To make life easier we can create dataframes that just have the values we are interested in \n",
        "\n",
        "- This is a bit more complicated but follows this type of pattern: \n",
        "\n",
        "``` \n",
        "\n",
        "dataframe[dataframe[search criteria]] \n",
        "\n",
        "``` \n",
        "\n",
        "- We are basically creating a subset of the dataframe by matching all entries that match `search criteria` \n",
        "\n",
        "- That search criteria can be anything that is a conditional \n",
        "\n",
        "- Doing this gives you a new dataframe "
      ]
    },
    {
      "cell_type": "markdown",
      "metadata": {
        "id": "KZ8aywCUjFFo"
      },
      "source": [
        "EG. A new dataframe of people with an Extroversion score over 6"
      ]
    },
    {
      "cell_type": "code",
      "metadata": {
        "id": "5w4mM2I_jFFo"
      },
      "source": [
        "over_6 = df[df[\"Extraversion\"] > 6] \n",
        "\n",
        "over_6.head(10)"
      ],
      "execution_count": null,
      "outputs": []
    },
    {
      "cell_type": "markdown",
      "metadata": {
        "id": "JCKqNkR6jFFo"
      },
      "source": [
        "EG. If we want the count of red wine with a fixed acidity greater than 14, we apply the .count() function to what we selected "
      ]
    },
    {
      "cell_type": "code",
      "metadata": {
        "id": "elorYLItjFFp"
      },
      "source": [
        "over_6.count() "
      ],
      "execution_count": null,
      "outputs": []
    },
    {
      "cell_type": "markdown",
      "metadata": {
        "id": "-AdUwDGdjFFp"
      },
      "source": [
        "This can be done in 1 line as well "
      ]
    },
    {
      "cell_type": "code",
      "metadata": {
        "id": "UsuV18ykjFFp"
      },
      "source": [
        "data[data[\"Extraversion\"] > 6].count() "
      ],
      "execution_count": null,
      "outputs": []
    },
    {
      "cell_type": "markdown",
      "metadata": {
        "id": "zNbUdwrMjFFp"
      },
      "source": [
        "Try Q9-Q10 below and type \"I got it\" into the chat when you are done "
      ]
    },
    {
      "cell_type": "markdown",
      "metadata": {
        "id": "NgjlJJdUjFFp"
      },
      "source": [
        "- **Q9** Can you make a new dataframe that just has people with a `Conscientiousness` score of 9 in it. Display the first 5 entries."
      ]
    },
    {
      "cell_type": "code",
      "metadata": {
        "id": "wGhhDa2zjFFp"
      },
      "source": [
        "Concientious9_People = \n",
        "Concientious9_People.head()"
      ],
      "execution_count": null,
      "outputs": []
    },
    {
      "cell_type": "markdown",
      "metadata": {
        "id": "lGhyaFkdjFFp"
      },
      "source": [
        "- **Q10** Can you 'describe' the newly created dataframe, to get some basic information on the columns in the dataframe?"
      ]
    },
    {
      "cell_type": "code",
      "metadata": {
        "id": "8Sg6sUNwjFFq"
      },
      "source": [
        ""
      ],
      "execution_count": null,
      "outputs": []
    },
    {
      "cell_type": "markdown",
      "metadata": {
        "id": "OTsRTw39jFFq"
      },
      "source": [
        "# Some questions now"
      ]
    },
    {
      "cell_type": "markdown",
      "metadata": {
        "id": "3q7fKl5ijFFq"
      },
      "source": [
        "Let's first make a dataframe of all of the serious people"
      ]
    },
    {
      "cell_type": "code",
      "metadata": {
        "id": "dmsM5nwcjFFq"
      },
      "source": [
        "serious_people = data[data[\"Personality\"] == \"serious\"]\n",
        "serious_people"
      ],
      "execution_count": null,
      "outputs": []
    },
    {
      "cell_type": "markdown",
      "metadata": {
        "id": "xVMeWg1njFFq"
      },
      "source": [
        "Try answering Q11 - Q14, type \"Finished\" into the chat when you are done"
      ]
    },
    {
      "cell_type": "markdown",
      "metadata": {
        "id": "V3agd_4ajFFq"
      },
      "source": [
        "- **Q11** How can we sort our `serious_people` dataframe?"
      ]
    },
    {
      "cell_type": "code",
      "metadata": {
        "id": "YHDbU5_gjFFr"
      },
      "source": [
        ""
      ],
      "execution_count": null,
      "outputs": []
    },
    {
      "cell_type": "markdown",
      "metadata": {
        "id": "6jY0Ug8ijFFr"
      },
      "source": [
        "- **Q12** What is the average Openness score of those in the `serious_people` dataset ?"
      ]
    },
    {
      "cell_type": "code",
      "metadata": {
        "id": "aBScpSe5jFFr"
      },
      "source": [
        ""
      ],
      "execution_count": null,
      "outputs": []
    },
    {
      "cell_type": "markdown",
      "metadata": {
        "id": "FTPWjA6ljFFr"
      },
      "source": [
        "- **Q13** What is the max Age of those in the `serious_people` dataset?"
      ]
    },
    {
      "cell_type": "code",
      "metadata": {
        "id": "XUv3R79ujFFr"
      },
      "source": [
        ""
      ],
      "execution_count": null,
      "outputs": []
    },
    {
      "cell_type": "markdown",
      "metadata": {
        "id": "oK71wxiEjFFr"
      },
      "source": [
        "- **Q14** What percentage of people in the `serious_people` dataset have a neuroticism score greater than 5? (This is probably the most complex question of the day, feel free to take as much time as you need to answer it)"
      ]
    },
    {
      "cell_type": "code",
      "metadata": {
        "id": "LNNSljDAjFFr"
      },
      "source": [
        ""
      ],
      "execution_count": null,
      "outputs": []
    },
    {
      "cell_type": "markdown",
      "metadata": {
        "id": "UJbYEmo0ldgo"
      },
      "source": [
        "# Another Library, MatplotLib\n",
        "\n",
        "Let's take a look at graphing our results. We can use the `matplotlib` library to generate some graphs of our results. We always gives lists as parameters for the graphs"
      ]
    },
    {
      "cell_type": "code",
      "metadata": {
        "id": "hYwONDz7lcKS"
      },
      "source": [
        "#This line is for Jupyter's benefit\n",
        "%matplotlib inline\n",
        "#Import MayPlotLib to graph some results\n",
        "import matplotlib.pyplot as plt"
      ],
      "execution_count": null,
      "outputs": []
    },
    {
      "cell_type": "code",
      "metadata": {
        "id": "6XtkdZrWmV3i"
      },
      "source": [
        "#Load the file\n",
        "graph_data = pd.read_csv(\"https://brockdsl.github.io/BrockPsych_Python_Collaboration_2021/psyc.csv\")\n",
        "\n",
        "graph_data.columns = [\"gender\",\"age\",\"openness\",\"neuroticism\",\"conscientiousness\",\"agreeableness\",\"extraversion\",\"personality\"] "
      ],
      "execution_count": null,
      "outputs": []
    },
    {
      "cell_type": "markdown",
      "metadata": {
        "id": "kfG8gMwevJOd"
      },
      "source": [
        "## Donut Charts\n",
        "Let's draw a donut chart of the number of people of each personality label."
      ]
    },
    {
      "cell_type": "code",
      "metadata": {
        "id": "M1iB4HG5vnQa"
      },
      "source": [
        "#All of the dependable people\n",
        "Total_dependable = graph_data[graph_data[\"personality\"] == \"dependable\"][\"personality\"].count()\n",
        "print(\"Dependable People: \" + str(Total_dependable))\n",
        "\n",
        "#All of the serious people\n",
        "Total_serious = graph_data[graph_data['personality'] == \"serious\"][\"personality\"].count()\n",
        "print(\"Serious People: \"+ str(Total_serious))\n",
        "\n",
        "#All of the extraverted people\n",
        "Total_extraverts = graph_data[graph_data[\"personality\"] == \"extraverted\"][\"personality\"].count()\n",
        "print(\"Extraverts: \"+ str(Total_extraverts))\n",
        "\n",
        "#All of the lively people\n",
        "Total_lively = graph_data[graph_data[\"personality\"] == \"lively\"][\"personality\"].count()\n",
        "print(\"Lively People: \"+ str(Total_lively))\n",
        "\n",
        "#All of the responsible people\n",
        "Total_responsible = graph_data[graph_data[\"personality\"] == \"responsible\"][\"personality\"].count()\n",
        "print(\"Responsible People: \"+ str(Total_responsible))\n",
        "\n",
        "# Matplot lib always wants data in a list, so we'll make one\n",
        "pie_data = [Total_dependable,Total_serious,Total_extraverts,Total_lively,Total_responsible]\n",
        "pie_labels = [\"Dependable People\", \"Serious People\", \"Extraverts\", \"Lively People\", \"Responsible People\"]\n",
        "plt.pie(pie_data,labels=pie_labels, colors = (\"red\", \"pink\", \"blue\", \"cyan\", \"purple\"))\n",
        "\n",
        "# Add a circle to create a hole in the pie chart\n",
        "centre_circle = plt.Circle((0, 0), 0.70, fc='white')\n",
        "fig = plt.gcf()\n",
        "fig.gca().add_artist(centre_circle)\n",
        "\n",
        "\n",
        "plt.show()"
      ],
      "execution_count": null,
      "outputs": []
    },
    {
      "cell_type": "markdown",
      "metadata": {
        "id": "Tco1ZQD0FVww"
      },
      "source": [
        "##Histograms\n",
        "\n",
        "Say we wanted to plot the personality distribution of our data"
      ]
    },
    {
      "cell_type": "code",
      "metadata": {
        "id": "t0_iLe3mFoIw"
      },
      "source": [
        "# bins is the number of containers we'll split our x-axis values into\n",
        "bins = 5\n",
        "\n",
        "plt.hist(graph_data[\"personality\"],bins, color=('red'), alpha=(0.9), hatch=\"x\", edgecolor='white')\n",
        "\n",
        "plt.title(\"Personality Distribution\", color=(0.2,0.6,0.4,0.6), size=30)\n",
        "plt.xlabel(\"Personality\", size=20)\n",
        "plt.ylabel(\"Occurrences\", size=20)\n",
        "\n",
        "#Set Background colour\n",
        "plt.gca().set_facecolor('lightblue')\n",
        "plt.gca().set_axis_on()\n",
        "\n",
        "#Change the color of the x and y values\n",
        "ax = plt.gca()\n",
        "ax.tick_params(axis='x', colors='brown')\n",
        "ax.tick_params(axis='y', colors='blue')\n",
        "\n",
        "plt.show()"
      ],
      "execution_count": null,
      "outputs": []
    },
    {
      "cell_type": "markdown",
      "metadata": {
        "id": "bnhMIQEt4aeU"
      },
      "source": [
        "**Q15** Can you create a pie graph that shows the gender distribution in the data? You just need to modify line 2 & 6"
      ]
    },
    {
      "cell_type": "code",
      "metadata": {
        "id": "Dg1XbmV04aAk"
      },
      "source": [
        "#Fill in the following\n",
        "Females = graph_data[graph_data[\"ChangeMe\"] == \"ChangeMe\"][\"gender\"].count()\n",
        "print(\"Females: \"+ str(females))\n",
        "\n",
        "#Fill in the following\n",
        "Males = graph_data[graph_data[\"ChangeMe\"] == \"ChangeMe\" ][\"gender\"].count()\n",
        "print(\"Males: \"+ str(males))\n",
        "\n",
        "pie_data = [Females,Males]\n",
        "pie_labels = [\"Females\",\"Males\"]\n",
        "plt.pie(pie_data,labels=pie_labels)\n",
        "\n",
        "plt.show()"
      ],
      "execution_count": null,
      "outputs": []
    },
    {
      "cell_type": "markdown",
      "metadata": {
        "id": "0WKf2c0kGu1_"
      },
      "source": [
        "**Q16** Can you draw a histogram of the Neuroticism distribution? Make sure to give it the axes good descriptions. You just need to modify line 1,5, & 6. (The example above should help you)"
      ]
    },
    {
      "cell_type": "code",
      "metadata": {
        "id": "OKNgKBvFG5jw"
      },
      "source": [
        "bins = #FILL\n",
        "\n",
        "plt.hist(graph_data[\"neuroticism\"],bins) \n",
        "plt.title(\"neuroticism Distribution\")\n",
        "plt.xlabel(\"ChangeMe\") #FILL\n",
        "plt.ylabel(\"ChangeMe\") #FILL\n",
        "\n",
        "plt.show()"
      ],
      "execution_count": null,
      "outputs": []
    },
    {
      "cell_type": "markdown",
      "metadata": {
        "id": "d9Wgjs-FIlXa"
      },
      "source": [
        "\n",
        "##Another Library: Seaborn\n",
        "Seaborn can do the same charts as Matplotlib, along with correlational charts that visualize correlations between variables.\n",
        "\n",
        "Install Seaborn"
      ]
    },
    {
      "cell_type": "code",
      "metadata": {
        "id": "DXV1ND84Irj6"
      },
      "source": [
        "pip install seaborn"
      ],
      "execution_count": null,
      "outputs": []
    },
    {
      "cell_type": "markdown",
      "metadata": {
        "id": "D701AX1cI7h_"
      },
      "source": [
        "Import Seaborn library, and ensure that numpy, matplotlib, and pandas are also imported"
      ]
    },
    {
      "cell_type": "code",
      "metadata": {
        "id": "u9rIBhPVIz8S"
      },
      "source": [
        "import numpy as np \n",
        "import matplotlib.pyplot as plt\n",
        "import pandas as pd \n",
        "import seaborn as sns"
      ],
      "execution_count": null,
      "outputs": []
    },
    {
      "cell_type": "markdown",
      "metadata": {
        "id": "nHNFdenvJD1n"
      },
      "source": [
        "Create a violin plot to compare distribution between two variables"
      ]
    },
    {
      "cell_type": "code",
      "metadata": {
        "id": "I_uGBjodJMZv"
      },
      "source": [
        "#Create a violin chart\n",
        "sns.violinplot(\"Gender\", \"Openness\", data=df,\n",
        "               palette=[\"hotpink\", \"cyan\"]);\n",
        "\n",
        "#Create a title\n",
        "plt.title('Comparing the Distribution of Openness for Females and Males')"
      ],
      "execution_count": null,
      "outputs": []
    },
    {
      "cell_type": "markdown",
      "metadata": {
        "id": "YcIEJq67Ltch"
      },
      "source": [
        "**Q17** Create a violin plot to compare the distribution between openness and age"
      ]
    },
    {
      "cell_type": "code",
      "metadata": {
        "id": "blr5hxP-MYl9"
      },
      "source": [
        "#Create a violin chart\n"
      ],
      "execution_count": null,
      "outputs": []
    },
    {
      "cell_type": "markdown",
      "metadata": {
        "id": "0L7El4uFjFFs"
      },
      "source": [
        "# Congrats!\n",
        "\n",
        "You now know a bit about Python Libraries and using some data analysis tools"
      ]
    },
    {
      "cell_type": "code",
      "metadata": {
        "id": "7M4KjauYjFFs"
      },
      "source": [
        ""
      ],
      "execution_count": null,
      "outputs": []
    }
  ]
}
